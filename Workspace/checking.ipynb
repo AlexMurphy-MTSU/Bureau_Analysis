{
 "cells": [
  {
   "cell_type": "code",
   "execution_count": 1,
   "metadata": {},
   "outputs": [],
   "source": [
    "import pandas as pd\n",
    "import numpy as np\n",
    "from datetime import datetime\n",
    "import plotly.express as px"
   ]
  },
  {
   "cell_type": "code",
   "execution_count": 2,
   "metadata": {},
   "outputs": [],
   "source": [
    "admin_df = pd.read_csv('../Data/2020 Domestic Violence - Administrative Data.csv', encoding='ISO-8859-1',skiprows=7)\n",
    "other_df = pd.read_csv('../Data/2020 Domestic Violence - Other Data.csv', encoding='ISO-8859-1',skiprows=7)\n",
    "location_df = pd.read_csv('../Data/2020 Q1 Domestic Violence - Location Type.csv', encoding='ISO-8859-1',skiprows=6)\n",
    "#n"
   ]
  },
  {
   "cell_type": "code",
   "execution_count": 12,
   "metadata": {},
   "outputs": [
    {
     "data": {
      "text/plain": [
       "Residence/Home                        18440\n",
       "Highway/Road/Alley                     2232\n",
       "Parking Lot/Garage                     1440\n",
       "School  Elementary/Secondary          1133\n",
       "Hotel/Motel/Etc.                        600\n",
       "Restaurant                              478\n",
       "Other/Unknown                           465\n",
       "Convenience Store                       429\n",
       "Jail/Prison                             284\n",
       "Department/Discount Store               249\n",
       "Bar/Night Club                          237\n",
       "Commericial/Office Building             215\n",
       "Hospital                                208\n",
       "Government/Public Building              173\n",
       "Grocery/Supermarket                     171\n",
       "Service/Gas Station                     157\n",
       "Specialty store (TV, Fur, etc.)         109\n",
       "School  College/University             106\n",
       "Park/Playground                         105\n",
       "Church/Synagogue/Temple                  70\n",
       "Air/Bus/Train Terminal                   69\n",
       "Field/Woods                              60\n",
       "Shelter - Mission/Homeless               51\n",
       "Doctor's Office                          47\n",
       "Community Center                         37\n",
       "Industrial Site                          29\n",
       "Shopping Mall                            29\n",
       "Construction Site                        27\n",
       "Camp/Campground                          26\n",
       "Auto Dealership New/Used                 25\n",
       "Bank/Savings and Loan                    23\n",
       "Daycare Facility                         21\n",
       "Arena/Stadium/Fairgrounds/Coliseum       19\n",
       "Library                                  19\n",
       "Rental Storage Facility                  16\n",
       "Abandoned/Condemned Structure            16\n",
       "Liquor Store                             14\n",
       "Pharmacy                                 10\n",
       "Auto Salvage/Junkyard                    10\n",
       "Amusement Park                            9\n",
       "Dock/Wharf/Freight/Modal Terminal         7\n",
       "Lake/Waterway                             7\n",
       "Rest Area                                 6\n",
       "Carport                                   5\n",
       "Cemetery                                  3\n",
       "Farm Facility                             3\n",
       "Movie Theater                             3\n",
       "Museum                                    2\n",
       "ATM Machine Separate from Bank            2\n",
       "Loan/Cash Advance                         2\n",
       "Military Installation                     2\n",
       "Pawn Shop                                 2\n",
       "Tattoo Parlor                             1\n",
       "School/College(Historical Only)           1\n",
       "Name: Primary Location Type, dtype: int64"
      ]
     },
     "execution_count": 12,
     "metadata": {},
     "output_type": "execute_result"
    }
   ],
   "source": [
    "location_df['Primary Location Type'].value_counts()\n"
   ]
  },
  {
   "cell_type": "code",
   "execution_count": 3,
   "metadata": {},
   "outputs": [
    {
     "name": "stdout",
     "output_type": "stream",
     "text": [
      "TN0410000\n"
     ]
    }
   ],
   "source": [
    "for id in admin_df['ORI'].unique():\n",
    "    if len(admin_df.loc[admin_df.ORI == id]) > 1:\n",
    "        print(id)\n",
    "        break"
   ]
  },
  {
   "cell_type": "code",
   "execution_count": 9,
   "metadata": {},
   "outputs": [
    {
     "data": {
      "text/plain": [
       "ORI                                                TN0840000\n",
       "Incident Number                                2010010806.00\n",
       "Incident Date                                        7/13/20\n",
       "Report Date Indicator                                    NaN\n",
       "Hour of Day                                   12:00n-12:59pm\n",
       "Incident Clearance                         Cleared by Arrest\n",
       "Exceptional Clearance Date                               NaN\n",
       "Address                       32,CULLUM LN,,MUNFORD,TN,38058\n",
       "Cargo Theft                                          Missing\n",
       "Name: 69284, dtype: object"
      ]
     },
     "execution_count": 9,
     "metadata": {},
     "output_type": "execute_result"
    }
   ],
   "source": [
    "admin_df.iloc[69284]"
   ]
  },
  {
   "cell_type": "code",
   "execution_count": 8,
   "metadata": {},
   "outputs": [
    {
     "data": {
      "text/plain": [
       "ORI                                                TN0840000\n",
       "Incident Number                                2010010806.00\n",
       "Incident Date                                        7/13/20\n",
       "Report Date Indicator                                    NaN\n",
       "Hour of Day                                   12:00n-12:59pm\n",
       "Incident Clearance                         Cleared by Arrest\n",
       "Exceptional Clearance Date                               NaN\n",
       "Address                       32,CULLUM LN,,MUNFORD,TN,38058\n",
       "Cargo Theft                                          Missing\n",
       "Name: 69285, dtype: object"
      ]
     },
     "execution_count": 8,
     "metadata": {},
     "output_type": "execute_result"
    }
   ],
   "source": [
    "admin_df.iloc[69285]"
   ]
  },
  {
   "cell_type": "code",
   "execution_count": 4,
   "metadata": {},
   "outputs": [
    {
     "data": {
      "text/html": [
       "<div>\n",
       "<style scoped>\n",
       "    .dataframe tbody tr th:only-of-type {\n",
       "        vertical-align: middle;\n",
       "    }\n",
       "\n",
       "    .dataframe tbody tr th {\n",
       "        vertical-align: top;\n",
       "    }\n",
       "\n",
       "    .dataframe thead th {\n",
       "        text-align: right;\n",
       "    }\n",
       "</style>\n",
       "<table border=\"1\" class=\"dataframe\">\n",
       "  <thead>\n",
       "    <tr style=\"text-align: right;\">\n",
       "      <th></th>\n",
       "      <th>ORI</th>\n",
       "      <th>Incident Number</th>\n",
       "      <th>Incident Date</th>\n",
       "      <th>Report Date Indicator</th>\n",
       "      <th>Hour of Day</th>\n",
       "      <th>Incident Clearance</th>\n",
       "      <th>Exceptional Clearance Date</th>\n",
       "      <th>Address</th>\n",
       "      <th>Cargo Theft</th>\n",
       "    </tr>\n",
       "  </thead>\n",
       "  <tbody>\n",
       "    <tr>\n",
       "      <th>0</th>\n",
       "      <td>TN0410000</td>\n",
       "      <td>20010101-133</td>\n",
       "      <td>1/1/20</td>\n",
       "      <td>NaN</td>\n",
       "      <td>1:00pm-1:59pm</td>\n",
       "      <td>Not Cleared</td>\n",
       "      <td>NaN</td>\n",
       "      <td>5610,HWY 230 EAST,,LYLES,TN,37098</td>\n",
       "      <td>Missing</td>\n",
       "    </tr>\n",
       "    <tr>\n",
       "      <th>4</th>\n",
       "      <td>TN0410000</td>\n",
       "      <td>200103-2142</td>\n",
       "      <td>1/3/20</td>\n",
       "      <td>NaN</td>\n",
       "      <td>9:00pm-9:59pm</td>\n",
       "      <td>Cleared by Arrest</td>\n",
       "      <td>NaN</td>\n",
       "      <td>6622,WOODLAND PARK CIR.,,NUNNELLY,TN,37137</td>\n",
       "      <td>Missing</td>\n",
       "    </tr>\n",
       "    <tr>\n",
       "      <th>30</th>\n",
       "      <td>TN0410000</td>\n",
       "      <td>200104-1340</td>\n",
       "      <td>1/4/20</td>\n",
       "      <td>NaN</td>\n",
       "      <td>1:00pm-1:59pm</td>\n",
       "      <td>Not Cleared</td>\n",
       "      <td>NaN</td>\n",
       "      <td>108,cOLLEGE aVE.,,cENTERVILLE,TN,37033</td>\n",
       "      <td>Missing</td>\n",
       "    </tr>\n",
       "    <tr>\n",
       "      <th>31</th>\n",
       "      <td>TN0410000</td>\n",
       "      <td>200104-1340</td>\n",
       "      <td>1/4/20</td>\n",
       "      <td>NaN</td>\n",
       "      <td>1:00pm-1:59pm</td>\n",
       "      <td>Not Cleared</td>\n",
       "      <td>NaN</td>\n",
       "      <td>108,cOLLEGE aVE.,,cENTERVILLE,TN,37033</td>\n",
       "      <td>Missing</td>\n",
       "    </tr>\n",
       "    <tr>\n",
       "      <th>32</th>\n",
       "      <td>TN0410000</td>\n",
       "      <td>200105-0228</td>\n",
       "      <td>1/4/20</td>\n",
       "      <td>NaN</td>\n",
       "      <td>5:00pm-5:59pm</td>\n",
       "      <td>Not Cleared</td>\n",
       "      <td>NaN</td>\n",
       "      <td>10900,N. TIDWELL RD.,,BON AQUA,TN,37025</td>\n",
       "      <td>Missing</td>\n",
       "    </tr>\n",
       "    <tr>\n",
       "      <th>...</th>\n",
       "      <td>...</td>\n",
       "      <td>...</td>\n",
       "      <td>...</td>\n",
       "      <td>...</td>\n",
       "      <td>...</td>\n",
       "      <td>...</td>\n",
       "      <td>...</td>\n",
       "      <td>...</td>\n",
       "      <td>...</td>\n",
       "    </tr>\n",
       "    <tr>\n",
       "      <th>68861</th>\n",
       "      <td>TN0410000</td>\n",
       "      <td>200306-2025</td>\n",
       "      <td>3/6/20</td>\n",
       "      <td>NaN</td>\n",
       "      <td>8:00pm-8:59pm</td>\n",
       "      <td>Cleared by Arrest</td>\n",
       "      <td>NaN</td>\n",
       "      <td>9395,BATES TRL,,LYLES,TN,37098</td>\n",
       "      <td>Missing</td>\n",
       "    </tr>\n",
       "    <tr>\n",
       "      <th>68862</th>\n",
       "      <td>TN0410000</td>\n",
       "      <td>200617-1616</td>\n",
       "      <td>6/17/20</td>\n",
       "      <td>NaN</td>\n",
       "      <td>4:00pm-4:59pm</td>\n",
       "      <td>Cleared by Arrest</td>\n",
       "      <td>NaN</td>\n",
       "      <td>6535,BROWN HOLLOW RD,,LYLES,TN,37098</td>\n",
       "      <td>Missing</td>\n",
       "    </tr>\n",
       "    <tr>\n",
       "      <th>68863</th>\n",
       "      <td>TN0410000</td>\n",
       "      <td>200719-1226</td>\n",
       "      <td>7/19/20</td>\n",
       "      <td>NaN</td>\n",
       "      <td>12:00n-12:59pm</td>\n",
       "      <td>Not Cleared</td>\n",
       "      <td>NaN</td>\n",
       "      <td>7757,CROSSROADS BLVD,,LYLES,TN,37098</td>\n",
       "      <td>Missing</td>\n",
       "    </tr>\n",
       "    <tr>\n",
       "      <th>68881</th>\n",
       "      <td>TN0410000</td>\n",
       "      <td>200809-0245</td>\n",
       "      <td>8/9/20</td>\n",
       "      <td>NaN</td>\n",
       "      <td>2:00am-2:59am</td>\n",
       "      <td>Victim Refused to Cooperate</td>\n",
       "      <td>8/9/20</td>\n",
       "      <td>2409,HIDDEN VALLEY RD,,NUNNELLY,TN,37137</td>\n",
       "      <td>Missing</td>\n",
       "    </tr>\n",
       "    <tr>\n",
       "      <th>68882</th>\n",
       "      <td>TN0410000</td>\n",
       "      <td>201013-0746</td>\n",
       "      <td>10/13/20</td>\n",
       "      <td>NaN</td>\n",
       "      <td>7:00am-7:59am</td>\n",
       "      <td>Cleared by Arrest</td>\n",
       "      <td>NaN</td>\n",
       "      <td>911,HWY 100 W,,CRENTERVILLE,TN,37033</td>\n",
       "      <td>Missing</td>\n",
       "    </tr>\n",
       "  </tbody>\n",
       "</table>\n",
       "<p>313 rows × 9 columns</p>\n",
       "</div>"
      ],
      "text/plain": [
       "             ORI Incident Number Incident Date Report Date Indicator  \\\n",
       "0      TN0410000    20010101-133        1/1/20                   NaN   \n",
       "4      TN0410000     200103-2142        1/3/20                   NaN   \n",
       "30     TN0410000     200104-1340        1/4/20                   NaN   \n",
       "31     TN0410000     200104-1340        1/4/20                   NaN   \n",
       "32     TN0410000     200105-0228        1/4/20                   NaN   \n",
       "...          ...             ...           ...                   ...   \n",
       "68861  TN0410000     200306-2025        3/6/20                   NaN   \n",
       "68862  TN0410000     200617-1616       6/17/20                   NaN   \n",
       "68863  TN0410000     200719-1226       7/19/20                   NaN   \n",
       "68881  TN0410000     200809-0245        8/9/20                   NaN   \n",
       "68882  TN0410000     201013-0746      10/13/20                   NaN   \n",
       "\n",
       "          Hour of Day           Incident Clearance Exceptional Clearance Date  \\\n",
       "0       1:00pm-1:59pm                  Not Cleared                        NaN   \n",
       "4       9:00pm-9:59pm            Cleared by Arrest                        NaN   \n",
       "30      1:00pm-1:59pm                  Not Cleared                        NaN   \n",
       "31      1:00pm-1:59pm                  Not Cleared                        NaN   \n",
       "32      5:00pm-5:59pm                  Not Cleared                        NaN   \n",
       "...               ...                          ...                        ...   \n",
       "68861   8:00pm-8:59pm            Cleared by Arrest                        NaN   \n",
       "68862   4:00pm-4:59pm            Cleared by Arrest                        NaN   \n",
       "68863  12:00n-12:59pm                  Not Cleared                        NaN   \n",
       "68881   2:00am-2:59am  Victim Refused to Cooperate                     8/9/20   \n",
       "68882   7:00am-7:59am            Cleared by Arrest                        NaN   \n",
       "\n",
       "                                          Address Cargo Theft  \n",
       "0               5610,HWY 230 EAST,,LYLES,TN,37098     Missing  \n",
       "4      6622,WOODLAND PARK CIR.,,NUNNELLY,TN,37137     Missing  \n",
       "30         108,cOLLEGE aVE.,,cENTERVILLE,TN,37033     Missing  \n",
       "31         108,cOLLEGE aVE.,,cENTERVILLE,TN,37033     Missing  \n",
       "32        10900,N. TIDWELL RD.,,BON AQUA,TN,37025     Missing  \n",
       "...                                           ...         ...  \n",
       "68861              9395,BATES TRL,,LYLES,TN,37098     Missing  \n",
       "68862        6535,BROWN HOLLOW RD,,LYLES,TN,37098     Missing  \n",
       "68863        7757,CROSSROADS BLVD,,LYLES,TN,37098     Missing  \n",
       "68881    2409,HIDDEN VALLEY RD,,NUNNELLY,TN,37137     Missing  \n",
       "68882        911,HWY 100 W,,CRENTERVILLE,TN,37033     Missing  \n",
       "\n",
       "[313 rows x 9 columns]"
      ]
     },
     "execution_count": 4,
     "metadata": {},
     "output_type": "execute_result"
    }
   ],
   "source": [
    "admin_df.loc[admin_df.ORI == 'TN0410000']"
   ]
  },
  {
   "cell_type": "code",
   "execution_count": 18,
   "metadata": {},
   "outputs": [],
   "source": [
    "admin_df['id'] = admin_df['ORI'] + admin_df['Incident Number'] + admin_df['Incident Date']"
   ]
  },
  {
   "cell_type": "code",
   "execution_count": 4,
   "metadata": {},
   "outputs": [
    {
     "name": "stdout",
     "output_type": "stream",
     "text": [
      "69299\n",
      "60054\n"
     ]
    }
   ],
   "source": [
    "print(len(admin_df))\n",
    "admin_df.drop_duplicates(inplace=True)\n",
    "print(len(admin_df))"
   ]
  },
  {
   "cell_type": "code",
   "execution_count": 21,
   "metadata": {},
   "outputs": [
    {
     "name": "stdout",
     "output_type": "stream",
     "text": [
      "TN0150100202001000000.001/2/20\n"
     ]
    }
   ],
   "source": [
    "for id in admin_df.id.unique():\n",
    "    if len(admin_df.loc[admin_df.id == id]) > 1:\n",
    "        print(id)\n",
    "        break"
   ]
  },
  {
   "cell_type": "code",
   "execution_count": 22,
   "metadata": {},
   "outputs": [
    {
     "data": {
      "text/html": [
       "<div>\n",
       "<style scoped>\n",
       "    .dataframe tbody tr th:only-of-type {\n",
       "        vertical-align: middle;\n",
       "    }\n",
       "\n",
       "    .dataframe tbody tr th {\n",
       "        vertical-align: top;\n",
       "    }\n",
       "\n",
       "    .dataframe thead th {\n",
       "        text-align: right;\n",
       "    }\n",
       "</style>\n",
       "<table border=\"1\" class=\"dataframe\">\n",
       "  <thead>\n",
       "    <tr style=\"text-align: right;\">\n",
       "      <th></th>\n",
       "      <th>ORI</th>\n",
       "      <th>Incident Number</th>\n",
       "      <th>Incident Date</th>\n",
       "      <th>Report Date Indicator</th>\n",
       "      <th>Hour of Day</th>\n",
       "      <th>Incident Clearance</th>\n",
       "      <th>Exceptional Clearance Date</th>\n",
       "      <th>Address</th>\n",
       "      <th>Cargo Theft</th>\n",
       "      <th>key</th>\n",
       "      <th>keys</th>\n",
       "      <th>id</th>\n",
       "    </tr>\n",
       "  </thead>\n",
       "  <tbody>\n",
       "    <tr>\n",
       "      <th>1</th>\n",
       "      <td>TN0150100</td>\n",
       "      <td>202001000000.00</td>\n",
       "      <td>1/2/20</td>\n",
       "      <td>NaN</td>\n",
       "      <td>1:00am-1:59am</td>\n",
       "      <td>Cleared by Arrest</td>\n",
       "      <td>NaN</td>\n",
       "      <td>342,CLIFTON HEIGHTS RD,,NEWPORT,TN,37821</td>\n",
       "      <td>Missing</td>\n",
       "      <td>0        TN0410000\\n1        TN0150100\\n2     ...</td>\n",
       "      <td>TN0150100202001000000.00</td>\n",
       "      <td>TN0150100202001000000.001/2/20</td>\n",
       "    </tr>\n",
       "    <tr>\n",
       "      <th>3</th>\n",
       "      <td>TN0150100</td>\n",
       "      <td>202001000000.00</td>\n",
       "      <td>1/2/20</td>\n",
       "      <td>NaN</td>\n",
       "      <td>11:00am-11:59am</td>\n",
       "      <td>Cleared by Arrest</td>\n",
       "      <td>NaN</td>\n",
       "      <td>641,MYERS CIRCLE,,NEWPORT,TN,37821</td>\n",
       "      <td>Missing</td>\n",
       "      <td>0        TN0410000\\n1        TN0150100\\n2     ...</td>\n",
       "      <td>TN0150100202001000000.00</td>\n",
       "      <td>TN0150100202001000000.001/2/20</td>\n",
       "    </tr>\n",
       "  </tbody>\n",
       "</table>\n",
       "</div>"
      ],
      "text/plain": [
       "         ORI  Incident Number Incident Date Report Date Indicator  \\\n",
       "1  TN0150100  202001000000.00        1/2/20                   NaN   \n",
       "3  TN0150100  202001000000.00        1/2/20                   NaN   \n",
       "\n",
       "       Hour of Day Incident Clearance Exceptional Clearance Date  \\\n",
       "1    1:00am-1:59am  Cleared by Arrest                        NaN   \n",
       "3  11:00am-11:59am  Cleared by Arrest                        NaN   \n",
       "\n",
       "                                    Address Cargo Theft  \\\n",
       "1  342,CLIFTON HEIGHTS RD,,NEWPORT,TN,37821     Missing   \n",
       "3        641,MYERS CIRCLE,,NEWPORT,TN,37821     Missing   \n",
       "\n",
       "                                                 key  \\\n",
       "1  0        TN0410000\\n1        TN0150100\\n2     ...   \n",
       "3  0        TN0410000\\n1        TN0150100\\n2     ...   \n",
       "\n",
       "                       keys                              id  \n",
       "1  TN0150100202001000000.00  TN0150100202001000000.001/2/20  \n",
       "3  TN0150100202001000000.00  TN0150100202001000000.001/2/20  "
      ]
     },
     "execution_count": 22,
     "metadata": {},
     "output_type": "execute_result"
    }
   ],
   "source": [
    "admin_df.loc[admin_df.id == 'TN0150100202001000000.001/2/20']"
   ]
  },
  {
   "cell_type": "code",
   "execution_count": 23,
   "metadata": {},
   "outputs": [
    {
     "data": {
      "text/plain": [
       "78"
      ]
     },
     "execution_count": 23,
     "metadata": {},
     "output_type": "execute_result"
    }
   ],
   "source": [
    "60054 - len(admin_df.id.unique())"
   ]
  }
 ],
 "metadata": {
  "kernelspec": {
   "display_name": "Python 3.9.12 64-bit",
   "language": "python",
   "name": "python3"
  },
  "language_info": {
   "codemirror_mode": {
    "name": "ipython",
    "version": 3
   },
   "file_extension": ".py",
   "mimetype": "text/x-python",
   "name": "python",
   "nbconvert_exporter": "python",
   "pygments_lexer": "ipython3",
   "version": "3.9.12"
  },
  "orig_nbformat": 4,
  "vscode": {
   "interpreter": {
    "hash": "b0fa6594d8f4cbf19f97940f81e996739fb7646882a419484c72d19e05852a7e"
   }
  }
 },
 "nbformat": 4,
 "nbformat_minor": 2
}
