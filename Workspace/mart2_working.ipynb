{
 "cells": [
  {
   "cell_type": "code",
   "execution_count": null,
   "metadata": {},
   "outputs": [],
   "source": [
    "import pandas as pd\n",
    "import numpy as np\n",
    "from datetime import datetime\n",
    "import plotly.express as px\n",
    "import plotly.graph_objects as go "
   ]
  },
  {
   "cell_type": "markdown",
   "metadata": {},
   "source": [
    "### Reading In Tables\n",
    "    Keys built in"
   ]
  },
  {
   "cell_type": "code",
   "execution_count": null,
   "metadata": {},
   "outputs": [],
   "source": [
    "admin_df = pd.read_csv('../Data/Mart2/admin.csv')\n",
    "other_df = pd.read_csv('../Data/Mart2/other.csv')\n",
    "locat_df = pd.read_csv('../Data/Mart2/location_compiled.csv')\n",
    "admin_df.drop('Unnamed: 0', axis=1, inplace=True)\n",
    "other_df.drop('Unnamed: 0', axis=1, inplace=True)\n",
    "locat_df.drop('Unnamed: 0', axis=1, inplace=True)\n",
    "\n",
    "# dropping duplicates throughout\n",
    "admin_df.drop_duplicates('Incident_Key', inplace=True) # minimal loss\n",
    "other_df.drop_duplicates('Incident_Key', inplace=True) # minimal loss\n",
    "locat_df.drop_duplicates(inplace=True) # duplicated Incident_Key include multiple primary locations"
   ]
  },
  {
   "cell_type": "code",
   "execution_count": null,
   "metadata": {},
   "outputs": [],
   "source": [
    "# census data for 2019 population estimates, source:\n",
    "# https://www2.census.gov/programs-surveys/popest/tables/2010-2019/counties/totals/\n",
    "census = pd.read_excel('../Data/Mart2/tn_county_pop.xlsx',sheet_name='Sheet1')"
   ]
  },
  {
   "cell_type": "code",
   "execution_count": null,
   "metadata": {},
   "outputs": [],
   "source": [
    "census.head()"
   ]
  },
  {
   "cell_type": "code",
   "execution_count": null,
   "metadata": {},
   "outputs": [],
   "source": [
    "# missing city\n",
    "admin_df.Address.isnull().value_counts()"
   ]
  },
  {
   "cell_type": "markdown",
   "metadata": {},
   "source": [
    "### Decided to run county for time\n",
    "Other includes county without needing to parce inconsistent/broken address field from Admin"
   ]
  },
  {
   "cell_type": "code",
   "execution_count": null,
   "metadata": {},
   "outputs": [],
   "source": [
    "def mult_pri_local(key, list_of_locations):\n",
    "    # number of times to duplicate entries, but not the weights (for Rates)\n",
    "    n = len(list_of_locations)\n",
    "    for i in range(n):\n",
    "        if i > 0:\n",
    "            mart2_dict['Incident_Key'].append(key)\n",
    "        mart2_dict['Incident_Date'].append(dt)\n",
    "        mart2_dict['County'].append(county)\n",
    "        if i == 0:\n",
    "            mart2_dict['Weight'].append(weight)\n",
    "        else:\n",
    "            mart2_dict['Weight'].append(0)\n",
    "        mart2_dict['Agency_Name'].append(agency_name)\n",
    "        mart2_dict['Primary_Location'].append(list_of_locations[i])\n",
    "\n",
    "    return\n",
    "\n",
    "mart2_dict = {\n",
    "    'Incident_Key':list(admin_df.Incident_Key),\n",
    "    'Incident_Date':[],\n",
    "    'County':[],\n",
    "    'Weight':[],\n",
    "    'Agency_Name':[],\n",
    "    'Primary_Location':[],\n",
    "}\n",
    "\n",
    "for key in list(admin_df.Incident_Key):\n",
    "    oth = other_df.loc[other_df.Incident_Key == key]\n",
    "    # pull county from other_df\n",
    "    county = oth.County.values[0]\n",
    "    # pull weight\n",
    "    weight = oth['Number of Offenses in Incident'].values[0]\n",
    "    # pull Agency Name\n",
    "    agency_name = oth['Agency Name'].values[0]\n",
    "    locat = locat_df.loc[locat_df.Incident_Key == key]\n",
    "    # pull date\n",
    "    dt = locat['Incident Date'].values[0]\n",
    "    # pull Pri Local(s)\n",
    "    pri_loc = locat['Primary Location Type'].unique().tolist()\n",
    "    \n",
    "    # append to dictionary\n",
    "    mult_pri_local(key,pri_loc)\n",
    "\n"
   ]
  },
  {
   "cell_type": "code",
   "execution_count": null,
   "metadata": {},
   "outputs": [],
   "source": [
    "locat_df.loc[locat_df.Incident_Key == 'TN0410000<>20010101-133<>01/01/20']['Primary Location Type'].unique().tolist()"
   ]
  },
  {
   "cell_type": "code",
   "execution_count": null,
   "metadata": {},
   "outputs": [],
   "source": [
    "# creating table\n",
    "mart2_df = pd.DataFrame(mart2_dict)\n",
    "mart2_df.head()"
   ]
  },
  {
   "cell_type": "code",
   "execution_count": null,
   "metadata": {},
   "outputs": [],
   "source": [
    "mart2_df.to_csv('../Tables/Mart2/Mart2_Table1.csv')"
   ]
  },
  {
   "cell_type": "code",
   "execution_count": null,
   "metadata": {},
   "outputs": [],
   "source": [
    "by_county = mart2_df.groupby(['County']).sum()\n",
    "by_county.reset_index(drop=False, inplace=True)\n",
    "by_county.rename({'Weight':'DV_Incident_Frequency'}, axis=1, inplace=True)\n",
    "by_county['Pop_Est_2019'] = census['2019 Estimate']\n",
    "by_county['Offense Rate Per 1k'] = round(by_county.DV_Incident_Frequency / by_county.Pop_Est_2019 * 1000, 4)\n",
    "by_county['Offense Rate Per 10k'] = round(by_county.DV_Incident_Frequency / by_county.Pop_Est_2019 * 10000, 4)\n",
    "by_county['Offense Rate Per 100k'] = round(by_county.DV_Incident_Frequency / by_county.Pop_Est_2019 * 100000, 4)\n",
    "by_county.head()"
   ]
  },
  {
   "cell_type": "code",
   "execution_count": null,
   "metadata": {},
   "outputs": [],
   "source": [
    "by_county_count = mart2_df.groupby(['County']).count()\n",
    "by_county_count.reset_index(drop=False, inplace=True)\n",
    "by_county_count.rename({'Weight':'DV_Incident_Frequency'}, axis=1, inplace=True)\n",
    "by_county_count.drop(['Incident_Key','Incident_Date', 'Agency_Name', 'Primary_Location'], axis=1, inplace=True)\n",
    "by_county_count.head()\n"
   ]
  },
  {
   "cell_type": "code",
   "execution_count": null,
   "metadata": {},
   "outputs": [],
   "source": [
    "by_county['DV_Incident_Frequency'] = by_county_count.DV_Incident_Frequency\n",
    "by_county['Incident Rate Per 1k'] = round(by_county.DV_Incident_Frequency / by_county.Pop_Est_2019 * 1000, 4)\n",
    "by_county['Incident Rate Per 10k'] = round(by_county.DV_Incident_Frequency / by_county.Pop_Est_2019 * 10000, 4)\n",
    "by_county['Incident Rate Per 100k'] = round(by_county.DV_Incident_Frequency / by_county.Pop_Est_2019 * 100000, 4)\n",
    "by_county.head()"
   ]
  },
  {
   "cell_type": "code",
   "execution_count": null,
   "metadata": {},
   "outputs": [],
   "source": [
    "by_county.to_csv('../Tables/Mart2/DV_Rates_by_County.csv')"
   ]
  },
  {
   "cell_type": "code",
   "execution_count": null,
   "metadata": {},
   "outputs": [],
   "source": [
    "by_agency = mart2_df.groupby(['Agency_Name']).count()\n",
    "by_agency.reset_index(drop=False, inplace=True)\n",
    "by_agency.drop(['Incident_Key','Incident_Date','County', 'Primary_Location'], axis=1, inplace=True)\n",
    "by_agency.rename({'Weight':'DV_Incident_Frequency'}, axis=1, inplace=True)\n",
    "by_agency.head()"
   ]
  },
  {
   "cell_type": "code",
   "execution_count": null,
   "metadata": {},
   "outputs": [],
   "source": [
    "def city_or_county(x):\n",
    "    if 'County' in x:\n",
    "        return 'County'\n",
    "    elif 'Air' in x:\n",
    "        return 'Airport'\n",
    "    elif ' College' in x or 'University' in x:\n",
    "        return 'College/Univerity'\n",
    "    else:\n",
    "        return 'City'\n",
    "\n",
    "by_agency['Agency_Type'] = by_agency.Agency_Name.apply(city_or_county)\n",
    "by_agency = by_agency[['Agency_Name','Agency_Type','DV_Incident_Frequency']]\n",
    "by_agency.head()"
   ]
  },
  {
   "cell_type": "code",
   "execution_count": null,
   "metadata": {},
   "outputs": [],
   "source": [
    "# pie charts with top 10 + 11th other category for both by_agency and by_county\n",
    "batotal = by_agency.DV_Incident_Frequency.sum() # 60149\n",
    "bctotal = by_county.DV_Incident_Frequency.sum() # 60149\n",
    "# top 10s\n",
    "baT10 = by_agency.sort_values('DV_Incident_Frequency', ascending=False)[:10]\n",
    "baT10.index = np.arange(1,11)\n",
    "bcT10 = by_county.sort_values('DV_Incident_Frequency', ascending=False)[:10]\n",
    "bcT10.index = np.arange(1,11)\n",
    "# trimming bcT10's featuers\n",
    "bcT10 = bcT10[['County','DV_Incident_Frequency','Pop_Est_2019',]]\n",
    "# create remainders\n",
    "baremaining = batotal - baT10.DV_Incident_Frequency.sum() # 25987\n",
    "bcremaining = bctotal - bcT10.DV_Incident_Frequency.sum() # 19934\n",
    "bcpopremaining = by_county.Pop_Est_2019.sum() - bcT10.Pop_Est_2019.sum()\n",
    "# adding Other row\n",
    "baDict = pd.DataFrame({'Agency_Name':'Other', 'Agency_Type':'Remaining', 'DV_Incident_Frequency': baremaining}, index=[11])\n",
    "bcDict = pd.DataFrame({'County':'Other', 'DV_Incident_Frequency':bcremaining, 'Pop_Est_2019':bcpopremaining}, index=[11])\n",
    "baT10 = pd.concat([baT10, baDict], axis=0, ignore_index=False)\n",
    "bcT10 = pd.concat([bcT10, bcDict], axis=0, ignore_index=False)\n"
   ]
  },
  {
   "cell_type": "code",
   "execution_count": null,
   "metadata": {},
   "outputs": [],
   "source": [
    "# by_agency DV distribution pie chart\n",
    "by_agency_fig = px.pie(baT10, values='DV_Incident_Frequency', names='Agency_Name', color_discrete_sequence=px.colors.qualitative.Dark24)\n",
    "by_agency_fig.update_layout(title_text='DV Distribution - Top 10 Agencies')\n",
    "by_agency_fig.show()\n",
    "# by_county DV distribution pie chart\n",
    "by_county_fig = px.pie(bcT10, values='DV_Incident_Frequency', names='County', color_discrete_sequence=px.colors.qualitative.Dark24)\n",
    "by_county_fig.update_layout(title_text='DV Distribution - Top 10 Counties')\n",
    "by_county_fig.show()\n",
    "# by_county Pop distribution pie chart\n",
    "by_county_pop_fig = px.pie(bcT10, values='Pop_Est_2019', names='County', color_discrete_sequence=px.colors.qualitative.Dark24)\n",
    "by_county_pop_fig.update_layout(title_text='Pop Distribution - Top 10 Counties')\n",
    "by_county_pop_fig.show()\n",
    "\n",
    "# write to image\n",
    "by_agency_fig.write_image('../Visuals/Mart2/DV_Distr_by_Agency.png', engine='kaleido')\n",
    "by_county_fig.write_image('../Visuals/Mart2/DV_Distr_by_County.png', engine='kaleido')\n",
    "by_county_pop_fig.write_image('../Visuals/Mart2/Pop_Distr_by_County.png', engine='kaleido')"
   ]
  },
  {
   "cell_type": "code",
   "execution_count": 249,
   "metadata": {},
   "outputs": [
    {
     "name": "stdout",
     "output_type": "stream",
     "text": [
      "359\n"
     ]
    },
    {
     "data": {
      "text/html": [
       "<div>\n",
       "<style scoped>\n",
       "    .dataframe tbody tr th:only-of-type {\n",
       "        vertical-align: middle;\n",
       "    }\n",
       "\n",
       "    .dataframe tbody tr th {\n",
       "        vertical-align: top;\n",
       "    }\n",
       "\n",
       "    .dataframe thead th {\n",
       "        text-align: right;\n",
       "    }\n",
       "</style>\n",
       "<table border=\"1\" class=\"dataframe\">\n",
       "  <thead>\n",
       "    <tr style=\"text-align: right;\">\n",
       "      <th></th>\n",
       "      <th>Agency_Name</th>\n",
       "      <th>Agency_Type</th>\n",
       "      <th>DV_Incident_Frequency</th>\n",
       "    </tr>\n",
       "  </thead>\n",
       "  <tbody>\n",
       "    <tr>\n",
       "      <th>0</th>\n",
       "      <td>Adamsville Police Department</td>\n",
       "      <td>City</td>\n",
       "      <td>5</td>\n",
       "    </tr>\n",
       "    <tr>\n",
       "      <th>1</th>\n",
       "      <td>Alamo Police Department</td>\n",
       "      <td>City</td>\n",
       "      <td>39</td>\n",
       "    </tr>\n",
       "    <tr>\n",
       "      <th>2</th>\n",
       "      <td>Alcoa Police Department</td>\n",
       "      <td>City</td>\n",
       "      <td>139</td>\n",
       "    </tr>\n",
       "    <tr>\n",
       "      <th>3</th>\n",
       "      <td>Alexandria Police Department</td>\n",
       "      <td>City</td>\n",
       "      <td>3</td>\n",
       "    </tr>\n",
       "    <tr>\n",
       "      <th>4</th>\n",
       "      <td>Algood Police Department</td>\n",
       "      <td>City</td>\n",
       "      <td>28</td>\n",
       "    </tr>\n",
       "  </tbody>\n",
       "</table>\n",
       "</div>"
      ],
      "text/plain": [
       "                    Agency_Name Agency_Type  DV_Incident_Frequency\n",
       "0  Adamsville Police Department        City                      5\n",
       "1       Alamo Police Department        City                     39\n",
       "2       Alcoa Police Department        City                    139\n",
       "3  Alexandria Police Department        City                      3\n",
       "4      Algood Police Department        City                     28"
      ]
     },
     "execution_count": 249,
     "metadata": {},
     "output_type": "execute_result"
    }
   ],
   "source": [
    "print(len(by_agency))\n",
    "by_agency.head()"
   ]
  },
  {
   "cell_type": "code",
   "execution_count": 292,
   "metadata": {},
   "outputs": [
    {
     "data": {
      "text/html": [
       "<div>\n",
       "<style scoped>\n",
       "    .dataframe tbody tr th:only-of-type {\n",
       "        vertical-align: middle;\n",
       "    }\n",
       "\n",
       "    .dataframe tbody tr th {\n",
       "        vertical-align: top;\n",
       "    }\n",
       "\n",
       "    .dataframe thead th {\n",
       "        text-align: right;\n",
       "    }\n",
       "</style>\n",
       "<table border=\"1\" class=\"dataframe\">\n",
       "  <thead>\n",
       "    <tr style=\"text-align: right;\">\n",
       "      <th></th>\n",
       "      <th>agyori</th>\n",
       "      <th>AgyName</th>\n",
       "      <th>rptyear</th>\n",
       "      <th>Officer Male</th>\n",
       "      <th>Officer Female</th>\n",
       "      <th>Officer Total</th>\n",
       "      <th>Civilian Male</th>\n",
       "      <th>Civilian Female</th>\n",
       "      <th>Civilian Total</th>\n",
       "      <th>Law Enforcement - Male - Total</th>\n",
       "      <th>Law Enforcement - Female - Total</th>\n",
       "      <th>Law Enforcement Total</th>\n",
       "    </tr>\n",
       "  </thead>\n",
       "  <tbody>\n",
       "    <tr>\n",
       "      <th>0</th>\n",
       "      <td>TN0310000</td>\n",
       "      <td>Grundy County Sheriffs Office</td>\n",
       "      <td>2020</td>\n",
       "      <td>15</td>\n",
       "      <td>3</td>\n",
       "      <td>18</td>\n",
       "      <td>13</td>\n",
       "      <td>10</td>\n",
       "      <td>23</td>\n",
       "      <td>28</td>\n",
       "      <td>13</td>\n",
       "      <td>41</td>\n",
       "    </tr>\n",
       "    <tr>\n",
       "      <th>1</th>\n",
       "      <td>TN0250100</td>\n",
       "      <td>Jamestown Police Department</td>\n",
       "      <td>2020</td>\n",
       "      <td>9</td>\n",
       "      <td>0</td>\n",
       "      <td>9</td>\n",
       "      <td>0</td>\n",
       "      <td>0</td>\n",
       "      <td>0</td>\n",
       "      <td>9</td>\n",
       "      <td>0</td>\n",
       "      <td>9</td>\n",
       "    </tr>\n",
       "    <tr>\n",
       "      <th>2</th>\n",
       "      <td>TN0260300</td>\n",
       "      <td>Cowan Police Department</td>\n",
       "      <td>2020</td>\n",
       "      <td>3</td>\n",
       "      <td>0</td>\n",
       "      <td>3</td>\n",
       "      <td>0</td>\n",
       "      <td>0</td>\n",
       "      <td>0</td>\n",
       "      <td>3</td>\n",
       "      <td>0</td>\n",
       "      <td>3</td>\n",
       "    </tr>\n",
       "    <tr>\n",
       "      <th>3</th>\n",
       "      <td>TN0740200</td>\n",
       "      <td>Greenbrier Police Department</td>\n",
       "      <td>2020</td>\n",
       "      <td>14</td>\n",
       "      <td>1</td>\n",
       "      <td>15</td>\n",
       "      <td>0</td>\n",
       "      <td>1</td>\n",
       "      <td>1</td>\n",
       "      <td>14</td>\n",
       "      <td>2</td>\n",
       "      <td>16</td>\n",
       "    </tr>\n",
       "    <tr>\n",
       "      <th>4</th>\n",
       "      <td>TN0790500</td>\n",
       "      <td>University of Tennessee Health Science C</td>\n",
       "      <td>2020</td>\n",
       "      <td>24</td>\n",
       "      <td>8</td>\n",
       "      <td>32</td>\n",
       "      <td>16</td>\n",
       "      <td>16</td>\n",
       "      <td>32</td>\n",
       "      <td>40</td>\n",
       "      <td>24</td>\n",
       "      <td>64</td>\n",
       "    </tr>\n",
       "  </tbody>\n",
       "</table>\n",
       "</div>"
      ],
      "text/plain": [
       "      agyori                                   AgyName  rptyear  Officer Male  \\\n",
       "0  TN0310000             Grundy County Sheriffs Office     2020            15   \n",
       "1  TN0250100               Jamestown Police Department     2020             9   \n",
       "2  TN0260300                   Cowan Police Department     2020             3   \n",
       "3  TN0740200              Greenbrier Police Department     2020            14   \n",
       "4  TN0790500  University of Tennessee Health Science C     2020            24   \n",
       "\n",
       "   Officer Female  Officer Total  Civilian Male  Civilian Female  \\\n",
       "0               3             18             13               10   \n",
       "1               0              9              0                0   \n",
       "2               0              3              0                0   \n",
       "3               1             15              0                1   \n",
       "4               8             32             16               16   \n",
       "\n",
       "   Civilian Total  Law Enforcement - Male - Total  \\\n",
       "0              23                              28   \n",
       "1               0                               9   \n",
       "2               0                               3   \n",
       "3               1                              14   \n",
       "4              32                              40   \n",
       "\n",
       "   Law Enforcement - Female - Total  Law Enforcement Total  \n",
       "0                                13                     41  \n",
       "1                                 0                      9  \n",
       "2                                 0                      3  \n",
       "3                                 2                     16  \n",
       "4                                24                     64  "
      ]
     },
     "execution_count": 292,
     "metadata": {},
     "output_type": "execute_result"
    }
   ],
   "source": [
    "agency_stat = pd.read_excel('../Data/Mart2/2020 Employee Counts for Dr Stickle.xlsx')\n",
    "agency_stat.head()"
   ]
  },
  {
   "cell_type": "code",
   "execution_count": 293,
   "metadata": {},
   "outputs": [],
   "source": [
    "for i in range(len(agency_stat)):\n",
    "    oldname = agency_stat.iloc[i].AgyName\n",
    "    if 'Sheriffs' in oldname:\n",
    "        newname = \"Sheriff's\".join(oldname.split('Sheriffs'))\n",
    "        agency_stat.loc[agency_stat.AgyName == oldname, 'AgyName'] = newname\n",
    "\n",
    "for i in range(len(agency_stat)):\n",
    "    oldname = agency_stat.iloc[i].AgyName\n",
    "    if 'Tims' in oldname:\n",
    "        newname = \"Tim's\".join(oldname.split('Tims'))\n",
    "        agency_stat.loc[agency_stat.AgyName == oldname, 'AgyName'] = newname\n",
    "    elif 'University of Tennessee Health Science C' == oldname:\n",
    "        agency_stat.loc[agency_stat.AgyName == oldname, 'AgyName'] = 'University of Tennessee Health Science Center'\n",
    "    elif 'King University - Security Department' == oldname:\n",
    "        agency_stat.loc[agency_stat.AgyName == oldname, 'AgyName'] = 'King University'\n",
    "    elif 'Tennessee Tech University' == oldname:\n",
    "        agency_stat.loc[agency_stat.AgyName == oldname, 'AgyName'] = 'Tennessee Technological University' \n",
    "    elif 'Southwest Tennessee Community College Po' == oldname:\n",
    "        agency_stat.loc[agency_stat.AgyName == oldname, 'AgyName'] = 'Southwest Tennessee Community College'\n",
    "    elif 'Fort Pillow Historic State Park' == oldname:\n",
    "        agency_stat.loc[agency_stat.AgyName == oldname, 'AgyName'] = 'Fort Pillow State Historic Park'\n",
    "    elif 'Memphis Shelby County Airport Authority' == oldname:\n",
    "        agency_stat.loc[agency_stat.AgyName == oldname, 'AgyName'] = 'Memphis Shelby County Airport Authority Police'\n",
    "    elif 'Metro Hartsville/Trousdale County Sherif' == oldname:\n",
    "        agency_stat.loc[agency_stat.AgyName == oldname, 'AgyName'] = \"Metro Hartsville/Trousdale County Sheriff's Office\"\n",
    "    elif 'Metro Nashville Park Police' == oldname:\n",
    "        agency_stat.loc[agency_stat.AgyName == oldname, 'AgyName'] = 'Nashville Metro Park Police'\n",
    "    elif \"Perry County Sheriff's Department\" == oldname:\n",
    "        agency_stat.loc[agency_stat.AgyName == oldname, 'AgyName'] = \"Perry County Sheriff's Office\"\n",
    "    elif \"South Carthage Police Department\" == oldname:\n",
    "        agency_stat.loc[agency_stat.AgyName == oldname, 'AgyName'] = \"South  Carthage Police Department\"\n",
    "    elif \"Tri-Cities Airport Public Safety Departm\" == oldname:\n",
    "        agency_stat.loc[agency_stat.AgyName == oldname, 'AgyName'] = 'Tri-Cities Airport Public Safety Department'\n"
   ]
  },
  {
   "cell_type": "code",
   "execution_count": 294,
   "metadata": {},
   "outputs": [
    {
     "data": {
      "text/plain": [
       "18"
      ]
     },
     "execution_count": 294,
     "metadata": {},
     "output_type": "execute_result"
    }
   ],
   "source": [
    "# from 113 to 21 with sheriff's fix, w/ independent fixes 21 to 18\n",
    "miss = []\n",
    "df_names = list(by_agency.Agency_Name)\n",
    "ex_names = list(agency_stat.AgyName)\n",
    "for name in df_names:\n",
    "    if name not in ex_names:\n",
    "        miss.append(name)\n",
    "len(miss)"
   ]
  },
  {
   "cell_type": "code",
   "execution_count": 301,
   "metadata": {},
   "outputs": [
    {
     "data": {
      "text/plain": [
       "['Fort Pillow State Historic Park',\n",
       " 'LaFayette Police Department',\n",
       " 'Memphis Shelby County Airport Authority Police',\n",
       " \"Metro Hartsville/Trousdale County Sheriff's Office\",\n",
       " 'Nashville Metro Park Police',\n",
       " \"Perry County Sheriff's Office\",\n",
       " 'South  Carthage Police Department',\n",
       " 'Tri-Cities Airport Public Safety Department',\n",
       " 'Vonore City Police Department',\n",
       " \"Warriors' Path State Park\"]"
      ]
     },
     "execution_count": 301,
     "metadata": {},
     "output_type": "execute_result"
    }
   ],
   "source": [
    "[x for x in miss if 'University' not in x and 'College' not in x]"
   ]
  },
  {
   "cell_type": "code",
   "execution_count": 310,
   "metadata": {},
   "outputs": [
    {
     "name": "stdout",
     "output_type": "stream",
     "text": [
      "0\n",
      "Tri-Cities Airport Public Safety Departm\n",
      "Trimble Police Department\n"
     ]
    }
   ],
   "source": [
    "# implement Sheriffs ot Sheriff's fix;\n",
    "i = 0\n",
    "# for name in miss:\n",
    "#     if 'Sheriff' in name:\n",
    "#         i+=1\n",
    "print(i)\n",
    "true_miss = {\n",
    "    \"Perry County Sheriffs Office\":'missing',\n",
    "    'Bethel University':'missing',\n",
    "    'Fisk University':'missing',\n",
    "    'Lee University':'missing',\n",
    "    'Union University':'missing',\n",
    "}\n",
    "for name in ex_names:\n",
    "    if 'Tri' in name:\n",
    "        print(name)"
   ]
  },
  {
   "cell_type": "code",
   "execution_count": null,
   "metadata": {},
   "outputs": [],
   "source": [
    "t20_a = by_agency.sort_values('DV_Incident_Frequency', ascending=False)[:20]\n",
    "t20_a.index = np.arange(1,21)\n"
   ]
  },
  {
   "cell_type": "code",
   "execution_count": null,
   "metadata": {},
   "outputs": [],
   "source": [
    "# t20_a.reset_index(drop=False).plot.bar(x='index', y='DV_Incident_Frequency', xlabel='Ranked Agency')"
   ]
  },
  {
   "cell_type": "code",
   "execution_count": null,
   "metadata": {},
   "outputs": [],
   "source": [
    "# checking indices line up\n",
    "inc_freq = list(by_county.sort_values('DV_Incident_Frequency', ascending=False)[:20].index)\n",
    "off_freq = list(by_county.sort_values('DV_Offense_Frequency', ascending=False)[:20].index)\n",
    "print('Incident Ranking | Offense Ranking')\n",
    "for i in range(20):\n",
    "    print(inc_freq[i], '- - -',off_freq[i], inc_freq[i] == off_freq[i])"
   ]
  },
  {
   "cell_type": "code",
   "execution_count": null,
   "metadata": {},
   "outputs": [],
   "source": [
    "t20 = by_county.sort_values('DV_Incident_Frequency', ascending=False)[:20]\n",
    "t20.index = np.arange(1, 21)\n",
    "t20.head()"
   ]
  },
  {
   "cell_type": "code",
   "execution_count": null,
   "metadata": {},
   "outputs": [],
   "source": [
    "# t20.reset_index(drop=False).plot.bar(x='index', y='DV_Incident_Frequency', xlabel='Ranked County')"
   ]
  },
  {
   "cell_type": "code",
   "execution_count": null,
   "metadata": {},
   "outputs": [],
   "source": [
    "by_agency.to_csv('../Tables/Mart2/DV_Rates_by_agency.csv')"
   ]
  },
  {
   "cell_type": "code",
   "execution_count": null,
   "metadata": {},
   "outputs": [],
   "source": [
    "# # Checking matching index\n",
    "# for i in range(len(by_county)):\n",
    "#     bc_county = by_county.iloc[i].County\n",
    "#     c_county = census.iloc[i].County\n",
    "#     if bc_county != c_county:\n",
    "#         print(i, bc_county, c_county)"
   ]
  },
  {
   "cell_type": "code",
   "execution_count": null,
   "metadata": {},
   "outputs": [],
   "source": [
    "# Features: \n",
    "# -City, ignored for time, might try a partial \n",
    "# -County, other\n",
    "# -Agency Name, other\n",
    "# -Pri Location, locat\n",
    "# -Pop of City / County, investigate this...\n",
    "# -Rates per 1k, 10k, 100k residents\n",
    "# -Weigth (essentially how many offenses were reported in this incident), other"
   ]
  },
  {
   "cell_type": "code",
   "execution_count": null,
   "metadata": {},
   "outputs": [],
   "source": [
    "# hunting for City\n",
    "broken = [] # includes missing and broken addresses\n",
    "for i in range(len(admin_df)):\n",
    "    row = admin_df.iloc[i]\n",
    "    st = row.Address\n",
    "    # checking if 'TN' is second to last entry on all of them\n",
    "    try:\n",
    "        check = st.split(',')[-2]\n",
    "    except (AttributeError, IndexError):\n",
    "        key = row.Incident_Key\n",
    "        broken.append(key)\n",
    "        continue\n",
    "\n",
    "    if 'TN' not in check:\n",
    "        key = row.Incident_Key\n",
    "        broken.append(key)\n",
    "\n",
    "len(broken)"
   ]
  },
  {
   "cell_type": "code",
   "execution_count": null,
   "metadata": {},
   "outputs": [],
   "source": [
    "# 369 have \",,,,,\" as address\n",
    "# 918 isnull() is True\n",
    "# 47 Can have cities/Towns extracted manually\n",
    "i = 0\n",
    "for key in broken:\n",
    "    X = admin_df.loc[admin_df.Incident_Key == key]\n",
    "    if X.Address.values[0] != ',,,,,' and type(X.Address.values[0]) == str: \n",
    "        try:\n",
    "            place = X.Address.values[0].split(',')[-3]\n",
    "            if place != '':\n",
    "                i+=1 \n",
    "                print(key, place)\n",
    "        except IndexError:\n",
    "            continue\n",
    "print(i)\n",
    "\n",
    "key_city = {\n",
    "    'TN0010000<>2001100069<>01/10/20': 'POWELL',\n",
    "    'TN0380000<>2020-000796<>01/18/20': 'BROWNSVILLE',\n",
    "    'TN0510000<>SH20032026<>01/23/20': 'HOHENWALD',\n",
    "    'TN0600100<>2020-000968<>02/21/20':'COLUMBIA',\n",
    "    'TN0600100<>2020-001108<>02/27/20': 'COLUMBIA',\n",
    "    'TN0740100<>2020-000316<>02/10/20': 'SPRINGFIELD',\n",
    "    'TN0470000<>2001030154<>01/03/20': 'KNOXVILLE',\n",
    "    'TN0610000<>202002499<>03/31/20': 'TEN MILE',\n",
    "    'TN0380000<>2020-003189<>03/09/20': 'BROWNSVILLE',\n",
    "    'TN0600100<>2020-001258<>03/05/20': 'COLUMBIA',\n",
    "    'TN0470000<>2002291923<>02/23/20': 'HEISKELL',\n",
    "    'TN0470000<>2002291940<>02/29/20': 'POWELL',\n",
    "    'TN0470000<>2004060197<>04/06/20': 'MASCOT',\n",
    "    'TN0470000<>2004080311<>04/08/20': 'POWELL',\n",
    "    'TN0440000<>030320-13288<>03/03/20': 'GAINESBORO',\n",
    "    'TN0470000<>2002281885<>02/28/20': 'POWELL',\n",
    "    'TN0470000<>2004130549<>04/13/20': 'KNOXVILLE',\n",
    "    'TN0740000<>2020-001070<>04/10/20': 'CEDAR HILL',\n",
    "    'TN0410000<>200503-1652<>05/03/20': 'LYLES',\n",
    "    'TN0440000<>052120-13385<>05/21/20': 'GAINESBORO',\n",
    "    'TN0950100<>2020025898<>06/24/20': 'Lebanon',\n",
    "    'TN0440000<>060820-13406<>06/08/20': 'GAINESBORO',\n",
    "    'TN0290300<>2006280309<>06/28/20': 'BEAN STATION',\n",
    "    'TN0290300<>2007110171<>07/11/20': 'BEAN STATION',\n",
    "    'TN0470000<>2007060390<>07/06/20': 'STRAWBERRY PLAINS',\n",
    "    'TN0470000<>2007120722<>07/12/20': 'KNOX',\n",
    "    'TN0470000<>2007120717<>07/12/20': 'CORRYTON',\n",
    "    'TN0470000<>2006100679<>06/10/20:': 'KNOX',\n",
    "    'TN0470000<>2007181112<>07/18/20': 'KNOX',\n",
    "    'TN0860000<>2007002253<>07/26/20': 'UNICOI',\n",
    "    'TN0170000<>2002151817<>02/15/20': 'Miami',\n",
    "    'TN0530000<>20200730871<>07/16/20': 'LENOIR CITY',\n",
    "    'TN0020100<>2007100050<>07/10/20': 'SHELBYVILLE',\n",
    "    'TN0470000<>2008241521<>08/24/20': 'KNOX',\n",
    "    'TN0610000<>202000043<>01/02/20': 'DECATUR',\n",
    "    'TN0470000<>2008301940<>08/30/20': 'POWELL',\n",
    "    'TN0440000<>080720-13540<>08/07/20': 'COOKEVILLE',\n",
    "    'TN0470000<>2008301972<>08/30/20': 'CORRYTON',\n",
    "    'TN0170000<>2008122130<>08/12/20': 'Gum Flats',\n",
    "    'TN0020100<>2009190034<>09/19/20': 'SHELBYVILLE',\n",
    "    'TN0540100<>202000000000<>09/28/20': 'Athens', \n",
    "    'TN0470000<>2010060450<>10/06/20': 'POWELL',\n",
    "    'TN0470000<>2008160966<>08/16/20': 'POWELL',\n",
    "    'TN0440000<>090520-13613<>09/05/20': 'COOKEVILLE',\n",
    "    'TN0190100<>20200588121<>09/12/20': 'Nashville',\n",
    "    'TN0410000<>201022-1156<>10/22/20': 'NUNNELLY',\n",
    "    'TN0470000<>2011141072<>11/14/20': 'MASCOT',\n",
    "    'TN0470000<>2011201575<>11/20/20': 'STRAWBERRY PLAINS',\n",
    "    'TN0470000<>2011241935<>11/24/20': 'KNOX',\n",
    "    'TN0830100<>GLTN20-04602<>11/03/20': 'GALLATIN',\n",
    "    'TN0470000<>2012241929<>12/24/20': 'KNOXVILLE',\n",
    "    'TN0440000<>011620-13127<>01/16/20': 'GAINESBORO',\n",
    "    'TN0440000<>072020-13497<>07/19/20': 'GAINESBORO',\n",
    "    'TN0470000<>2012080552<>12/08/20': 'STRAWBERRY PLAINS',\n",
    "    'TN0470000<>2012120991<>12/12/20': 'CORRYTON',\n",
    "    'TN0470000<>2102221624<>09/01/20': 'POWELL',\n",
    "    'TN0470000<>2007181150<>07/18/20': 'KNOX',\n",
    "    'TN0640000<>2020-0436<>12/12/20': 'FAYETTEVILLE',\n",
    "    'TN0410000<>201031-1322<>10/31/20': 'NUNNELLY',\n",
    "    'TN0170000<>2009041123<>09/04/20': 'Paragould',\n",
    "    'TN0190100<>20200414761<>06/19/20': 'ANTIOCH',\n",
    "    'TN0610000<>202005168<>07/01/20': 'BIRCHWOOD',\n",
    "    'TN0740100<>2020-001624<>07/11/20': 'SPRINGFIELD',\n",
    "    'TN0330200<>20-017126<>12/30/20': 'EAST RIDGE',\n",
    "}"
   ]
  }
 ],
 "metadata": {
  "kernelspec": {
   "display_name": "Python 3.9.12 64-bit",
   "language": "python",
   "name": "python3"
  },
  "language_info": {
   "codemirror_mode": {
    "name": "ipython",
    "version": 3
   },
   "file_extension": ".py",
   "mimetype": "text/x-python",
   "name": "python",
   "nbconvert_exporter": "python",
   "pygments_lexer": "ipython3",
   "version": "3.9.12"
  },
  "orig_nbformat": 4,
  "vscode": {
   "interpreter": {
    "hash": "b0fa6594d8f4cbf19f97940f81e996739fb7646882a419484c72d19e05852a7e"
   }
  }
 },
 "nbformat": 4,
 "nbformat_minor": 2
}
