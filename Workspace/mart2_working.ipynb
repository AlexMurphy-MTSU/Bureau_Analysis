{
 "cells": [
  {
   "cell_type": "code",
   "execution_count": 1,
   "metadata": {},
   "outputs": [],
   "source": [
    "import pandas as pd\n",
    "import numpy as np\n",
    "from datetime import datetime\n",
    "import plotly.express as px\n",
    "import plotly.graph_objects as go "
   ]
  },
  {
   "cell_type": "markdown",
   "metadata": {},
   "source": [
    "### Reading In Tables\n",
    "    Keys built in"
   ]
  },
  {
   "cell_type": "code",
   "execution_count": 96,
   "metadata": {},
   "outputs": [],
   "source": [
    "admin_df = pd.read_csv('../Data/Mart2/admin.csv')\n",
    "other_df = pd.read_csv('../Data/Mart2/other.csv')\n",
    "locat_df = pd.read_csv('../Data/Mart2/location_compiled.csv')\n",
    "admin_df.drop('Unnamed: 0', axis=1, inplace=True)\n",
    "other_df.drop('Unnamed: 0', axis=1, inplace=True)\n",
    "locat_df.drop('Unnamed: 0', axis=1, inplace=True)\n",
    "\n",
    "# dropping duplicates throughout\n",
    "admin_df.drop_duplicates('Incident_Key', inplace=True) # minimal loss\n",
    "other_df.drop_duplicates('Incident_Key', inplace=True) # minimal loss\n",
    "locat_df.drop_duplicates(inplace=True) # duplicated Incident_Key include multiple primary locations"
   ]
  },
  {
   "cell_type": "code",
   "execution_count": 127,
   "metadata": {},
   "outputs": [],
   "source": [
    "# census data for 2019 population estimates, source:\n",
    "# https://www2.census.gov/programs-surveys/popest/tables/2010-2019/counties/totals/\n",
    "census = pd.read_excel('../Data/Mart2/tn_county_pop.xlsx',sheet_name='Sheet1')"
   ]
  },
  {
   "cell_type": "code",
   "execution_count": 103,
   "metadata": {},
   "outputs": [
    {
     "data": {
      "text/html": [
       "<div>\n",
       "<style scoped>\n",
       "    .dataframe tbody tr th:only-of-type {\n",
       "        vertical-align: middle;\n",
       "    }\n",
       "\n",
       "    .dataframe tbody tr th {\n",
       "        vertical-align: top;\n",
       "    }\n",
       "\n",
       "    .dataframe thead th {\n",
       "        text-align: right;\n",
       "    }\n",
       "</style>\n",
       "<table border=\"1\" class=\"dataframe\">\n",
       "  <thead>\n",
       "    <tr style=\"text-align: right;\">\n",
       "      <th></th>\n",
       "      <th>County</th>\n",
       "      <th>2019 Estimate</th>\n",
       "    </tr>\n",
       "  </thead>\n",
       "  <tbody>\n",
       "    <tr>\n",
       "      <th>0</th>\n",
       "      <td>Anderson</td>\n",
       "      <td>76978</td>\n",
       "    </tr>\n",
       "    <tr>\n",
       "      <th>1</th>\n",
       "      <td>Bedford</td>\n",
       "      <td>49713</td>\n",
       "    </tr>\n",
       "    <tr>\n",
       "      <th>2</th>\n",
       "      <td>Benton</td>\n",
       "      <td>16160</td>\n",
       "    </tr>\n",
       "    <tr>\n",
       "      <th>3</th>\n",
       "      <td>Bledsoe</td>\n",
       "      <td>15064</td>\n",
       "    </tr>\n",
       "    <tr>\n",
       "      <th>4</th>\n",
       "      <td>Blount</td>\n",
       "      <td>133088</td>\n",
       "    </tr>\n",
       "  </tbody>\n",
       "</table>\n",
       "</div>"
      ],
      "text/plain": [
       "     County  2019 Estimate\n",
       "0  Anderson          76978\n",
       "1   Bedford          49713\n",
       "2    Benton          16160\n",
       "3   Bledsoe          15064\n",
       "4    Blount         133088"
      ]
     },
     "execution_count": 103,
     "metadata": {},
     "output_type": "execute_result"
    }
   ],
   "source": [
    "census.head()"
   ]
  },
  {
   "cell_type": "code",
   "execution_count": 66,
   "metadata": {},
   "outputs": [
    {
     "data": {
      "text/plain": [
       "False    59056\n",
       "True       918\n",
       "Name: Address, dtype: int64"
      ]
     },
     "execution_count": 66,
     "metadata": {},
     "output_type": "execute_result"
    }
   ],
   "source": [
    "# missing city\n",
    "admin_df.Address.isnull().value_counts()"
   ]
  },
  {
   "cell_type": "markdown",
   "metadata": {},
   "source": [
    "### Decided to run county for time\n",
    "Other includes county without needing to parce inconsistent/broken address field from Admin"
   ]
  },
  {
   "cell_type": "code",
   "execution_count": 99,
   "metadata": {},
   "outputs": [
    {
     "name": "stdout",
     "output_type": "stream",
     "text": [
      "160\n"
     ]
    }
   ],
   "source": [
    "def mult_pri_local(key, list_of_locations):\n",
    "    # number of times to duplicate entries, but not the weights (for Rates)\n",
    "    n = len(list_of_locations)\n",
    "    for i in range(n):\n",
    "        mart2_dict['Incident_Key'].append(key)\n",
    "        mart2_dict['Incident_Date'].append(dt)\n",
    "        mart2_dict['County'].append(county)\n",
    "        if i == 0:\n",
    "            mart2_dict['Weight'].append(weight)\n",
    "        else:\n",
    "            mart2_dict['Weight'].append(0)\n",
    "        mart2_dict['Agency_Name'].append(agency_name)\n",
    "        mart2_dict['Primary_Location'].append(list_of_locations[i])\n",
    "\n",
    "    return\n",
    "\n",
    "mart2_dict = {\n",
    "    'Incident_Key':list(admin_df.Incident_Key),\n",
    "    'Incident_Date':[],\n",
    "    'County':[],\n",
    "    'Weight':[],\n",
    "    'Agency_Name':[],\n",
    "    'Primary_Location':[],\n",
    "}\n",
    "\n",
    "for key in list(admin_df.Incident_Key):\n",
    "    oth = other_df.loc[other_df.Incident_Key == key]\n",
    "    # pull county from other_df\n",
    "    county = oth.County.values[0]\n",
    "    # pull weight\n",
    "    weight = oth['Number of Offenses in Incident'].values[0]\n",
    "    # pull Agency Name\n",
    "    agency_name = oth['Agency Name'].values[0]\n",
    "    locat = locat_df.loc[locat_df.Incident_Key == key]\n",
    "    # pull date\n",
    "    dt = locat['Incident Date'].values[0]\n",
    "    # pull Pri Local(s)\n",
    "    pri_loc = locat['Primary Location Type'].unique().tolist()\n",
    "    \n",
    "    # append to dictionary\n",
    "    mult_pri_local(key,pri_loc)\n",
    "\n",
    "print(i)\n"
   ]
  },
  {
   "cell_type": "code",
   "execution_count": 138,
   "metadata": {},
   "outputs": [
    {
     "data": {
      "text/plain": [
       "['Residence/Home']"
      ]
     },
     "execution_count": 138,
     "metadata": {},
     "output_type": "execute_result"
    }
   ],
   "source": [
    "locat_df.loc[locat_df.Incident_Key == 'TN0410000<>20010101-133<>01/01/20']['Primary Location Type'].unique().tolist()"
   ]
  },
  {
   "cell_type": "code",
   "execution_count": 104,
   "metadata": {},
   "outputs": [
    {
     "data": {
      "text/html": [
       "<div>\n",
       "<style scoped>\n",
       "    .dataframe tbody tr th:only-of-type {\n",
       "        vertical-align: middle;\n",
       "    }\n",
       "\n",
       "    .dataframe tbody tr th {\n",
       "        vertical-align: top;\n",
       "    }\n",
       "\n",
       "    .dataframe thead th {\n",
       "        text-align: right;\n",
       "    }\n",
       "</style>\n",
       "<table border=\"1\" class=\"dataframe\">\n",
       "  <thead>\n",
       "    <tr style=\"text-align: right;\">\n",
       "      <th></th>\n",
       "      <th>Incident_Key</th>\n",
       "      <th>Incident_Date</th>\n",
       "      <th>County</th>\n",
       "      <th>Weight</th>\n",
       "      <th>Agency_Name</th>\n",
       "      <th>Primary_Location</th>\n",
       "    </tr>\n",
       "  </thead>\n",
       "  <tbody>\n",
       "    <tr>\n",
       "      <th>0</th>\n",
       "      <td>TN0410000&lt;&gt;20010101-133&lt;&gt;01/01/20</td>\n",
       "      <td>01/01/20</td>\n",
       "      <td>Hickman</td>\n",
       "      <td>1</td>\n",
       "      <td>Hickman County Sheriff's Office</td>\n",
       "      <td>Residence/Home</td>\n",
       "    </tr>\n",
       "    <tr>\n",
       "      <th>1</th>\n",
       "      <td>TN0150100&lt;&gt;202001000000&lt;&gt;01/02/20</td>\n",
       "      <td>01/02/20</td>\n",
       "      <td>Cocke</td>\n",
       "      <td>1</td>\n",
       "      <td>Newport Police Department</td>\n",
       "      <td>Residence/Home</td>\n",
       "    </tr>\n",
       "    <tr>\n",
       "      <th>2</th>\n",
       "      <td>TN0410000&lt;&gt;200103-2142&lt;&gt;01/03/20</td>\n",
       "      <td>01/03/20</td>\n",
       "      <td>Hickman</td>\n",
       "      <td>1</td>\n",
       "      <td>Hickman County Sheriff's Office</td>\n",
       "      <td>Residence/Home</td>\n",
       "    </tr>\n",
       "    <tr>\n",
       "      <th>3</th>\n",
       "      <td>TN0500100&lt;&gt;20010166&lt;&gt;01/02/20</td>\n",
       "      <td>01/02/20</td>\n",
       "      <td>Lawrence</td>\n",
       "      <td>1</td>\n",
       "      <td>Lawrenceburg Police Department</td>\n",
       "      <td>Parking Lot/Garage</td>\n",
       "    </tr>\n",
       "    <tr>\n",
       "      <th>4</th>\n",
       "      <td>TN0540300&lt;&gt;2020010076&lt;&gt;01/01/20</td>\n",
       "      <td>01/01/20</td>\n",
       "      <td>McMinn</td>\n",
       "      <td>1</td>\n",
       "      <td>Etowah Police Department</td>\n",
       "      <td>Residence/Home</td>\n",
       "    </tr>\n",
       "  </tbody>\n",
       "</table>\n",
       "</div>"
      ],
      "text/plain": [
       "                        Incident_Key Incident_Date    County  Weight  \\\n",
       "0  TN0410000<>20010101-133<>01/01/20      01/01/20   Hickman       1   \n",
       "1  TN0150100<>202001000000<>01/02/20      01/02/20     Cocke       1   \n",
       "2   TN0410000<>200103-2142<>01/03/20      01/03/20   Hickman       1   \n",
       "3      TN0500100<>20010166<>01/02/20      01/02/20  Lawrence       1   \n",
       "4    TN0540300<>2020010076<>01/01/20      01/01/20    McMinn       1   \n",
       "\n",
       "                       Agency_Name    Primary_Location  \n",
       "0  Hickman County Sheriff's Office      Residence/Home  \n",
       "1        Newport Police Department      Residence/Home  \n",
       "2  Hickman County Sheriff's Office      Residence/Home  \n",
       "3   Lawrenceburg Police Department  Parking Lot/Garage  \n",
       "4         Etowah Police Department      Residence/Home  "
      ]
     },
     "execution_count": 104,
     "metadata": {},
     "output_type": "execute_result"
    }
   ],
   "source": [
    "# creating table\n",
    "mart2_df = pd.DataFrame(mart2_dict)\n",
    "mart2_df.head()"
   ]
  },
  {
   "cell_type": "code",
   "execution_count": 133,
   "metadata": {},
   "outputs": [
    {
     "data": {
      "text/html": [
       "<div>\n",
       "<style scoped>\n",
       "    .dataframe tbody tr th:only-of-type {\n",
       "        vertical-align: middle;\n",
       "    }\n",
       "\n",
       "    .dataframe tbody tr th {\n",
       "        vertical-align: top;\n",
       "    }\n",
       "\n",
       "    .dataframe thead th {\n",
       "        text-align: right;\n",
       "    }\n",
       "</style>\n",
       "<table border=\"1\" class=\"dataframe\">\n",
       "  <thead>\n",
       "    <tr style=\"text-align: right;\">\n",
       "      <th></th>\n",
       "      <th>County</th>\n",
       "      <th>DV_Freqeuncy</th>\n",
       "      <th>Pop_Est_2019</th>\n",
       "      <th>Rate Per 1k</th>\n",
       "      <th>Rate Per 10k</th>\n",
       "      <th>Rate Per 100k</th>\n",
       "    </tr>\n",
       "  </thead>\n",
       "  <tbody>\n",
       "    <tr>\n",
       "      <th>0</th>\n",
       "      <td>Anderson</td>\n",
       "      <td>681</td>\n",
       "      <td>76978</td>\n",
       "      <td>8.8467</td>\n",
       "      <td>88.4668</td>\n",
       "      <td>884.6683</td>\n",
       "    </tr>\n",
       "    <tr>\n",
       "      <th>1</th>\n",
       "      <td>Bedford</td>\n",
       "      <td>469</td>\n",
       "      <td>49713</td>\n",
       "      <td>9.4342</td>\n",
       "      <td>94.3415</td>\n",
       "      <td>943.4152</td>\n",
       "    </tr>\n",
       "    <tr>\n",
       "      <th>2</th>\n",
       "      <td>Benton</td>\n",
       "      <td>32</td>\n",
       "      <td>16160</td>\n",
       "      <td>1.9802</td>\n",
       "      <td>19.8020</td>\n",
       "      <td>198.0198</td>\n",
       "    </tr>\n",
       "    <tr>\n",
       "      <th>3</th>\n",
       "      <td>Bledsoe</td>\n",
       "      <td>16</td>\n",
       "      <td>15064</td>\n",
       "      <td>1.0621</td>\n",
       "      <td>10.6213</td>\n",
       "      <td>106.2135</td>\n",
       "    </tr>\n",
       "    <tr>\n",
       "      <th>4</th>\n",
       "      <td>Blount</td>\n",
       "      <td>885</td>\n",
       "      <td>133088</td>\n",
       "      <td>6.6497</td>\n",
       "      <td>66.4974</td>\n",
       "      <td>664.9736</td>\n",
       "    </tr>\n",
       "  </tbody>\n",
       "</table>\n",
       "</div>"
      ],
      "text/plain": [
       "     County  DV_Freqeuncy  Pop_Est_2019  Rate Per 1k  Rate Per 10k  \\\n",
       "0  Anderson           681         76978       8.8467       88.4668   \n",
       "1   Bedford           469         49713       9.4342       94.3415   \n",
       "2    Benton            32         16160       1.9802       19.8020   \n",
       "3   Bledsoe            16         15064       1.0621       10.6213   \n",
       "4    Blount           885        133088       6.6497       66.4974   \n",
       "\n",
       "   Rate Per 100k  \n",
       "0       884.6683  \n",
       "1       943.4152  \n",
       "2       198.0198  \n",
       "3       106.2135  \n",
       "4       664.9736  "
      ]
     },
     "execution_count": 133,
     "metadata": {},
     "output_type": "execute_result"
    }
   ],
   "source": [
    "by_county = mart2_df.groupby(['County']).sum()\n",
    "by_county.reset_index(drop=False, inplace=True)\n",
    "by_county.rename({'Weight':'DV_Freqeuncy'}, axis=1, inplace=True)\n",
    "by_county['Pop_Est_2019'] = census['2019 Estimate']\n",
    "by_county['Rate Per 1k'] = round(by_county.DV_Freqeuncy / by_county.Pop_Est_2019 * 1000, 4)\n",
    "by_county['Rate Per 10k'] = round(by_county.DV_Freqeuncy / by_county.Pop_Est_2019 * 10000, 4)\n",
    "by_county['Rate Per 100k'] = round(by_county.DV_Freqeuncy / by_county.Pop_Est_2019 * 100000, 4)\n",
    "by_county.head()"
   ]
  },
  {
   "cell_type": "code",
   "execution_count": 128,
   "metadata": {},
   "outputs": [],
   "source": [
    "# # Checking matching index\n",
    "# for i in range(len(by_county)):\n",
    "#     bc_county = by_county.iloc[i].County\n",
    "#     c_county = census.iloc[i].County\n",
    "#     if bc_county != c_county:\n",
    "#         print(i, bc_county, c_county)"
   ]
  },
  {
   "cell_type": "code",
   "execution_count": 98,
   "metadata": {},
   "outputs": [
    {
     "data": {
      "text/plain": [
       "'Hospital, Residence/Home'"
      ]
     },
     "execution_count": 98,
     "metadata": {},
     "output_type": "execute_result"
    }
   ],
   "source": [
    "', '.join(locat_df.loc[locat_df.Incident_Key == 'TN0790200<>202000000000<>01/24/20']['Primary Location Type'].unique().tolist())"
   ]
  },
  {
   "cell_type": "code",
   "execution_count": null,
   "metadata": {},
   "outputs": [],
   "source": [
    "# Features: \n",
    "# -City, ignored for time, might try a partial \n",
    "# -County, other\n",
    "# -Agency Name, other\n",
    "# -Pri Location, locat\n",
    "# -Pop of City / County, investigate this...\n",
    "# -Rates per 1k, 10k, 100k residents\n",
    "# -Weigth (essentially how many offenses were reported in this incident), other"
   ]
  },
  {
   "cell_type": "code",
   "execution_count": 35,
   "metadata": {},
   "outputs": [
    {
     "data": {
      "text/plain": [
       "2057"
      ]
     },
     "execution_count": 35,
     "metadata": {},
     "output_type": "execute_result"
    }
   ],
   "source": [
    "# hunting for City\n",
    "broken = [] # includes missing and broken addresses\n",
    "for i in range(len(admin_df)):\n",
    "    row = admin_df.iloc[i]\n",
    "    st = row.Address\n",
    "    # checking if 'TN' is second to last entry on all of them\n",
    "    try:\n",
    "        check = st.split(',')[-2]\n",
    "    except (AttributeError, IndexError):\n",
    "        key = row.Incident_Key\n",
    "        broken.append(key)\n",
    "        continue\n",
    "\n",
    "    if 'TN' not in check:\n",
    "        key = row.Incident_Key\n",
    "        broken.append(key)\n",
    "\n",
    "len(broken)"
   ]
  },
  {
   "cell_type": "code",
   "execution_count": null,
   "metadata": {},
   "outputs": [],
   "source": [
    "# 369 have \",,,,,\" as address\n",
    "# 918 isnull() is True\n",
    "# 47 Can have cities/Towns extracted manually\n",
    "i = 0\n",
    "for key in broken:\n",
    "    X = admin_df.loc[admin_df.Incident_Key == key]\n",
    "    if X.Address.values[0] != ',,,,,' and type(X.Address.values[0]) == str: \n",
    "        try:\n",
    "            place = X.Address.values[0].split(',')[-3]\n",
    "            if place != '':\n",
    "                i+=1 \n",
    "                print(key, place)\n",
    "        except IndexError:\n",
    "            continue\n",
    "print(i)\n",
    "\n",
    "key_city = {\n",
    "    'TN0010000<>2001100069<>01/10/20': 'POWELL',\n",
    "    'TN0380000<>2020-000796<>01/18/20': 'BROWNSVILLE',\n",
    "    'TN0510000<>SH20032026<>01/23/20': 'HOHENWALD',\n",
    "    'TN0600100<>2020-000968<>02/21/20':'COLUMBIA',\n",
    "    'TN0600100<>2020-001108<>02/27/20': 'COLUMBIA',\n",
    "    'TN0740100<>2020-000316<>02/10/20': 'SPRINGFIELD',\n",
    "    'TN0470000<>2001030154<>01/03/20': 'KNOXVILLE',\n",
    "    'TN0610000<>202002499<>03/31/20': 'TEN MILE',\n",
    "    'TN0380000<>2020-003189<>03/09/20': 'BROWNSVILLE',\n",
    "    'TN0600100<>2020-001258<>03/05/20': 'COLUMBIA',\n",
    "    'TN0470000<>2002291923<>02/23/20': 'HEISKELL',\n",
    "    'TN0470000<>2002291940<>02/29/20': 'POWELL',\n",
    "    'TN0470000<>2004060197<>04/06/20': 'MASCOT',\n",
    "    TN0470000<>2004080311<>04/08/20 POWELL\n",
    "    TN0440000<>030320-13288<>03/03/20 GAINESBORO\n",
    "    TN0470000<>2002281885<>02/28/20 POWELL\n",
    "    TN0470000<>2004130549<>04/13/20 KNOXVILLE\n",
    "    TN0740000<>2020-001070<>04/10/20 CEDAR HILL\n",
    "    TN0410000<>200503-1652<>05/03/20 LYLES\n",
    "    TN0440000<>052120-13385<>05/21/20 GAINESBORO\n",
    "    TN0950100<>2020025898<>06/24/20 Lebanon\n",
    "    TN0440000<>060820-13406<>06/08/20 GAINESBORO\n",
    "    TN0290300<>2006280309<>06/28/20 BEAN STATION\n",
    "    TN0290300<>2007110171<>07/11/20 BEAN STATION\n",
    "    TN0470000<>2007060390<>07/06/20 STRAWBERRY PLAINS\n",
    "    TN0470000<>2007120722<>07/12/20 KNOX\n",
    "    TN0470000<>2007120717<>07/12/20 CORRYTON\n",
    "    TN0470000<>2006100679<>06/10/20 KNOX\n",
    "    TN0470000<>2007181112<>07/18/20 KNOX\n",
    "    TN0860000<>2007002253<>07/26/20 UNICOI\n",
    "    TN0170000<>2002151817<>02/15/20 Miami\n",
    "    TN0530000<>20200730871<>07/16/20 LENOIR CITY\n",
    "    TN0020100<>2007100050<>07/10/20 SHELBYVILLE\n",
    "    TN0470000<>2008241521<>08/24/20 KNOX\n",
    "    TN0610000<>202000043<>01/02/20 DECATUR\n",
    "    TN0470000<>2008301940<>08/30/20 POWELL\n",
    "    TN0440000<>080720-13540<>08/07/20 COOKEVILLE\n",
    "    TN0470000<>2008301972<>08/30/20 CORRYTON\n",
    "    TN0170000<>2008122130<>08/12/20 Gum Flat\n",
    "    TN0020100<>2009190034<>09/19/20 SHELBYVILLE\n",
    "    TN0540100<>202000000000<>09/28/20 Athens \n",
    "    TN0470000<>2010060450<>10/06/20 POWELL\n",
    "    TN0470000<>2008160966<>08/16/20 POWELL\n",
    "    TN0440000<>090520-13613<>09/05/20 COOKEVILLE\n",
    "    TN0190100<>20200588121<>09/12/20 Nashville\n",
    "    TN0410000<>201022-1156<>10/22/20 NUNNELLY\n",
    "    TN0470000<>2011141072<>11/14/20 MASCOT\n",
    "    TN0470000<>2011201575<>11/20/20 STRAWBERRY PLAINS\n",
    "    TN0470000<>2011241935<>11/24/20 KNOX\n",
    "    TN0830100<>GLTN20-04602<>11/03/20 GALLATIN\n",
    "    TN0470000<>2012241929<>12/24/20 KNOXVILLE\n",
    "    TN0440000<>011620-13127<>01/16/20 GAINESBORO\n",
    "    TN0440000<>072020-13497<>07/19/20 GAINESBORO\n",
    "    TN0470000<>2012080552<>12/08/20 STRAWBERRY PLNS\n",
    "    TN0470000<>2012120991<>12/12/20 CORRYTON\n",
    "    TN0470000<>2102221624<>09/01/20 POWELL\n",
    "    TN0470000<>2007181150<>07/18/20 KNOX\n",
    "    TN0640000<>2020-0436<>12/12/20 FAYETTEVILLE\n",
    "    TN0410000<>201031-1322<>10/31/20 NUNNELLY\n",
    "    TN0170000<>2009041123<>09/04/20 Paragould\n",
    "    TN0190100<>20200414761<>06/19/20 ANTIOCH\n",
    "    TN0610000<>202005168<>07/01/20 BIRCHWOOD\n",
    "    TN0740100<>2020-001624<>07/11/20 SPRINGFIELD\n",
    "    TN0330200<>20-017126<>12/30/20 EAST RIDGE'\n",
    "\n",
    "}"
   ]
  },
  {
   "cell_type": "code",
   "execution_count": 64,
   "metadata": {},
   "outputs": [
    {
     "data": {
      "text/html": [
       "<div>\n",
       "<style scoped>\n",
       "    .dataframe tbody tr th:only-of-type {\n",
       "        vertical-align: middle;\n",
       "    }\n",
       "\n",
       "    .dataframe tbody tr th {\n",
       "        vertical-align: top;\n",
       "    }\n",
       "\n",
       "    .dataframe thead th {\n",
       "        text-align: right;\n",
       "    }\n",
       "</style>\n",
       "<table border=\"1\" class=\"dataframe\">\n",
       "  <thead>\n",
       "    <tr style=\"text-align: right;\">\n",
       "      <th></th>\n",
       "      <th>ORI</th>\n",
       "      <th>Incident Number</th>\n",
       "      <th>Incident Date</th>\n",
       "      <th>Report Date Indicator</th>\n",
       "      <th>Hour of Day</th>\n",
       "      <th>Incident Clearance</th>\n",
       "      <th>Exceptional Clearance Date</th>\n",
       "      <th>Address</th>\n",
       "      <th>Cargo Theft</th>\n",
       "      <th>Incident_Key</th>\n",
       "    </tr>\n",
       "  </thead>\n",
       "  <tbody>\n",
       "    <tr>\n",
       "      <th>22675</th>\n",
       "      <td>TN0470000</td>\n",
       "      <td>2007120722</td>\n",
       "      <td>07/12/20</td>\n",
       "      <td>NaN</td>\n",
       "      <td>12:00n-12:59pm</td>\n",
       "      <td>Not Cleared</td>\n",
       "      <td>NaN</td>\n",
       "      <td>5209,ODELL RD,,KNOX,,</td>\n",
       "      <td>Missing</td>\n",
       "      <td>TN0470000&lt;&gt;2007120722&lt;&gt;07/12/20</td>\n",
       "    </tr>\n",
       "  </tbody>\n",
       "</table>\n",
       "</div>"
      ],
      "text/plain": [
       "             ORI Incident Number Incident Date Report Date Indicator  \\\n",
       "22675  TN0470000      2007120722      07/12/20                   NaN   \n",
       "\n",
       "          Hour of Day Incident Clearance Exceptional Clearance Date  \\\n",
       "22675  12:00n-12:59pm        Not Cleared                        NaN   \n",
       "\n",
       "                     Address Cargo Theft                     Incident_Key  \n",
       "22675  5209,ODELL RD,,KNOX,,     Missing  TN0470000<>2007120722<>07/12/20  "
      ]
     },
     "execution_count": 64,
     "metadata": {},
     "output_type": "execute_result"
    }
   ],
   "source": [
    "admin_df.loc[admin_df.Incident_Key == 'TN0470000<>2007120722<>07/12/20']"
   ]
  }
 ],
 "metadata": {
  "kernelspec": {
   "display_name": "Python 3.9.12 64-bit",
   "language": "python",
   "name": "python3"
  },
  "language_info": {
   "codemirror_mode": {
    "name": "ipython",
    "version": 3
   },
   "file_extension": ".py",
   "mimetype": "text/x-python",
   "name": "python",
   "nbconvert_exporter": "python",
   "pygments_lexer": "ipython3",
   "version": "3.9.12"
  },
  "orig_nbformat": 4,
  "vscode": {
   "interpreter": {
    "hash": "b0fa6594d8f4cbf19f97940f81e996739fb7646882a419484c72d19e05852a7e"
   }
  }
 },
 "nbformat": 4,
 "nbformat_minor": 2
}
