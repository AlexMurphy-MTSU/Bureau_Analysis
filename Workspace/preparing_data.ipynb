{
 "cells": [
  {
   "cell_type": "code",
   "execution_count": 1,
   "metadata": {},
   "outputs": [],
   "source": [
    "import pandas as pd\n",
    "import numpy as np\n",
    "from datetime import datetime"
   ]
  },
  {
   "cell_type": "code",
   "execution_count": null,
   "metadata": {},
   "outputs": [],
   "source": [
    "\"\"\"\n",
    "NOTE: combining 'ORI' and 'Incident Number' is not enough for a unique identifier per event. \n",
    "Waiting to hear clarification form Ben, but could create a key using date also. That should\n",
    "be enough to join matching entries from one table to another correctly.\n",
    "NOTE: Reply: heard back from Ben, got a new csv from a specific PD that only has 198 records, of which only 170 have unique INs \n",
    "\"\"\""
   ]
  },
  {
   "cell_type": "code",
   "execution_count": 2,
   "metadata": {},
   "outputs": [],
   "source": [
    "# Deliverables 1 & 2 Need to join:\n",
    "# Data/2020 Domestic Violence - Administrative Data.csv\n",
    "# Data/2020 Domestic Violence - Other Data.csv\n",
    "# Data/2020 Q2 Domestic Violence - Location Type.csv\n",
    "admin_df = pd.read_csv('../Data/2020 Domestic Violence - Administrative Data.csv', encoding='ISO-8859-1',skiprows=7)\n",
    "other_df = pd.read_csv('../Data/2020 Domestic Violence - Other Data.csv', encoding='ISO-8859-1',skiprows=7)\n",
    "location_df = pd.read_csv('../Data/2020 Q1 Domestic Violence - Location Type.csv', encoding='ISO-8859-1',skiprows=6)\n",
    "#nadmin_df = pd.read_csv('../Data/new2020 Domestic Violence - Administrative for Athens PD 08192022.csv', encoding='ISO-8859-1',skiprows=6)\n"
   ]
  },
  {
   "cell_type": "code",
   "execution_count": 9,
   "metadata": {},
   "outputs": [
    {
     "data": {
      "text/plain": [
       "(69299, 60054, 58893)"
      ]
     },
     "execution_count": 9,
     "metadata": {},
     "output_type": "execute_result"
    }
   ],
   "source": [
    "#len(admin_df), len(admin_df.drop_duplicates()), len(set(admin_df['Incident Number']))"
   ]
  },
  {
   "cell_type": "code",
   "execution_count": 3,
   "metadata": {},
   "outputs": [
    {
     "name": "stderr",
     "output_type": "stream",
     "text": [
      "/var/folders/pt/y3bb3b4j7yz3zzczhxc5l9p0vbrddc/T/ipykernel_41365/263674152.py:3: SettingWithCopyWarning: \n",
      "A value is trying to be set on a copy of a slice from a DataFrame.\n",
      "Try using .loc[row_indexer,col_indexer] = value instead\n",
      "\n",
      "See the caveats in the documentation: https://pandas.pydata.org/pandas-docs/stable/user_guide/indexing.html#returning-a-view-versus-a-copy\n",
      "  base_df[['Month', 'Day','Year']] = base_df['Incident Date'].str.split('/', expand=True)\n",
      "/var/folders/pt/y3bb3b4j7yz3zzczhxc5l9p0vbrddc/T/ipykernel_41365/263674152.py:3: SettingWithCopyWarning: \n",
      "A value is trying to be set on a copy of a slice from a DataFrame.\n",
      "Try using .loc[row_indexer,col_indexer] = value instead\n",
      "\n",
      "See the caveats in the documentation: https://pandas.pydata.org/pandas-docs/stable/user_guide/indexing.html#returning-a-view-versus-a-copy\n",
      "  base_df[['Month', 'Day','Year']] = base_df['Incident Date'].str.split('/', expand=True)\n",
      "/var/folders/pt/y3bb3b4j7yz3zzczhxc5l9p0vbrddc/T/ipykernel_41365/263674152.py:3: SettingWithCopyWarning: \n",
      "A value is trying to be set on a copy of a slice from a DataFrame.\n",
      "Try using .loc[row_indexer,col_indexer] = value instead\n",
      "\n",
      "See the caveats in the documentation: https://pandas.pydata.org/pandas-docs/stable/user_guide/indexing.html#returning-a-view-versus-a-copy\n",
      "  base_df[['Month', 'Day','Year']] = base_df['Incident Date'].str.split('/', expand=True)\n",
      "/var/folders/pt/y3bb3b4j7yz3zzczhxc5l9p0vbrddc/T/ipykernel_41365/263674152.py:4: SettingWithCopyWarning: \n",
      "A value is trying to be set on a copy of a slice from a DataFrame.\n",
      "Try using .loc[row_indexer,col_indexer] = value instead\n",
      "\n",
      "See the caveats in the documentation: https://pandas.pydata.org/pandas-docs/stable/user_guide/indexing.html#returning-a-view-versus-a-copy\n",
      "  base_df[['Hour','End']] = base_df['Hour of Day'].str.split('-', expand=True)\n",
      "/var/folders/pt/y3bb3b4j7yz3zzczhxc5l9p0vbrddc/T/ipykernel_41365/263674152.py:4: SettingWithCopyWarning: \n",
      "A value is trying to be set on a copy of a slice from a DataFrame.\n",
      "Try using .loc[row_indexer,col_indexer] = value instead\n",
      "\n",
      "See the caveats in the documentation: https://pandas.pydata.org/pandas-docs/stable/user_guide/indexing.html#returning-a-view-versus-a-copy\n",
      "  base_df[['Hour','End']] = base_df['Hour of Day'].str.split('-', expand=True)\n",
      "/var/folders/pt/y3bb3b4j7yz3zzczhxc5l9p0vbrddc/T/ipykernel_41365/263674152.py:9: SettingWithCopyWarning: \n",
      "A value is trying to be set on a copy of a slice from a DataFrame\n",
      "\n",
      "See the caveats in the documentation: https://pandas.pydata.org/pandas-docs/stable/user_guide/indexing.html#returning-a-view-versus-a-copy\n",
      "  base_df.replace(to_replace=defects, inplace=True)\n"
     ]
    }
   ],
   "source": [
    "base_df = admin_df.drop_duplicates()\n",
    "# MM/DD/YYYY -> need Day and Month specifically\n",
    "base_df[['Month', 'Day','Year']] = base_df['Incident Date'].str.split('/', expand=True)\n",
    "base_df[['Hour','End']] = base_df['Hour of Day'].str.split('-', expand=True)\n",
    "defects = {\n",
    "    '11:0 0am':'11:00am',\n",
    "    '12:00n':'12:00pm',\n",
    "    }\n",
    "base_df.replace(to_replace=defects, inplace=True)\n",
    "base_df.reset_index(drop=True, inplace=True)\n",
    "base_df = base_df[base_df.Hour != 'Unknown']\n"
   ]
  },
  {
   "cell_type": "code",
   "execution_count": 4,
   "metadata": {},
   "outputs": [],
   "source": [
    "# # '4:00pm'\n",
    "# x = base_df.iloc[13]['Hour']\n",
    "# print(len(x))\n",
    "# x1,p = x[:4],x[4:]\n",
    "# x = ' '.join([x1,p])\n",
    "# in_time = datetime.strptime(x, \"%I:%M %p\")\n",
    "# out_time = datetime.strftime(in_time, \"%H:%M\")\n",
    "# print(out_time)\n",
    "\n",
    "def change_time_format(x):\n",
    "    if len(x) == 6:\n",
    "        x1,p = x[:4],x[4:]    \n",
    "    else:\n",
    "        x1,p = x[:5],x[5:]\n",
    "    t = ' '.join([x1,p])\n",
    "    in_time = datetime.strptime(t, \"%I:%M %p\")\n",
    "    return datetime.strftime(in_time, \"%H:%M\")\n",
    "\n"
   ]
  },
  {
   "cell_type": "code",
   "execution_count": null,
   "metadata": {},
   "outputs": [],
   "source": [
    "# # checking for errors\n",
    "# new_hour = []\n",
    "# i = 0\n",
    "# for t in base_df.Hour:\n",
    "#     try:\n",
    "#         new_hour.append(change_time_format(t))\n",
    "#     except ValueError:\n",
    "#         print(i)\n",
    "#         break\n",
    "#     i += 1\n",
    "# len(new_hour)\n"
   ]
  },
  {
   "cell_type": "code",
   "execution_count": 6,
   "metadata": {},
   "outputs": [],
   "source": [
    "base_df.Hour = base_df.Hour.apply(change_time_format)\n",
    "base_df.Day = base_df.Day.apply(int)\n",
    "base_df.Month = base_df.Month.apply(int)"
   ]
  },
  {
   "cell_type": "code",
   "execution_count": 7,
   "metadata": {},
   "outputs": [
    {
     "data": {
      "text/html": [
       "<div>\n",
       "<style scoped>\n",
       "    .dataframe tbody tr th:only-of-type {\n",
       "        vertical-align: middle;\n",
       "    }\n",
       "\n",
       "    .dataframe tbody tr th {\n",
       "        vertical-align: top;\n",
       "    }\n",
       "\n",
       "    .dataframe thead th {\n",
       "        text-align: right;\n",
       "    }\n",
       "</style>\n",
       "<table border=\"1\" class=\"dataframe\">\n",
       "  <thead>\n",
       "    <tr style=\"text-align: right;\">\n",
       "      <th></th>\n",
       "      <th>ORI</th>\n",
       "      <th>Incident Number</th>\n",
       "      <th>Month</th>\n",
       "      <th>Day</th>\n",
       "      <th>Year</th>\n",
       "      <th>Hour</th>\n",
       "      <th>Incident Clearance</th>\n",
       "    </tr>\n",
       "  </thead>\n",
       "  <tbody>\n",
       "    <tr>\n",
       "      <th>0</th>\n",
       "      <td>TN0410000</td>\n",
       "      <td>20010101-133</td>\n",
       "      <td>1</td>\n",
       "      <td>1</td>\n",
       "      <td>2020</td>\n",
       "      <td>13:00</td>\n",
       "      <td>Not Cleared</td>\n",
       "    </tr>\n",
       "    <tr>\n",
       "      <th>1</th>\n",
       "      <td>TN0150100</td>\n",
       "      <td>2.02001E+11</td>\n",
       "      <td>1</td>\n",
       "      <td>2</td>\n",
       "      <td>2020</td>\n",
       "      <td>01:00</td>\n",
       "      <td>Cleared by Arrest</td>\n",
       "    </tr>\n",
       "    <tr>\n",
       "      <th>2</th>\n",
       "      <td>TN0150100</td>\n",
       "      <td>2.02001E+11</td>\n",
       "      <td>1</td>\n",
       "      <td>2</td>\n",
       "      <td>2020</td>\n",
       "      <td>11:00</td>\n",
       "      <td>Cleared by Arrest</td>\n",
       "    </tr>\n",
       "    <tr>\n",
       "      <th>3</th>\n",
       "      <td>TN0410000</td>\n",
       "      <td>200103-2142</td>\n",
       "      <td>1</td>\n",
       "      <td>3</td>\n",
       "      <td>2020</td>\n",
       "      <td>21:00</td>\n",
       "      <td>Cleared by Arrest</td>\n",
       "    </tr>\n",
       "    <tr>\n",
       "      <th>4</th>\n",
       "      <td>TN0500100</td>\n",
       "      <td>20010166</td>\n",
       "      <td>1</td>\n",
       "      <td>2</td>\n",
       "      <td>2020</td>\n",
       "      <td>11:00</td>\n",
       "      <td>Cleared by Arrest</td>\n",
       "    </tr>\n",
       "  </tbody>\n",
       "</table>\n",
       "</div>"
      ],
      "text/plain": [
       "         ORI Incident Number  Month  Day  Year   Hour Incident Clearance\n",
       "0  TN0410000    20010101-133      1    1  2020  13:00        Not Cleared\n",
       "1  TN0150100     2.02001E+11      1    2  2020  01:00  Cleared by Arrest\n",
       "2  TN0150100     2.02001E+11      1    2  2020  11:00  Cleared by Arrest\n",
       "3  TN0410000     200103-2142      1    3  2020  21:00  Cleared by Arrest\n",
       "4  TN0500100        20010166      1    2  2020  11:00  Cleared by Arrest"
      ]
     },
     "execution_count": 7,
     "metadata": {},
     "output_type": "execute_result"
    }
   ],
   "source": [
    "ts_df = base_df[['ORI','Incident Number','Month','Day','Year','Hour','Incident Clearance']]\n",
    "ts_df.head()\n"
   ]
  },
  {
   "cell_type": "code",
   "execution_count": 8,
   "metadata": {},
   "outputs": [
    {
     "data": {
      "text/plain": [
       "ORI                   object\n",
       "Incident Number       object\n",
       "Month                  int64\n",
       "Day                    int64\n",
       "Year                  object\n",
       "Hour                  object\n",
       "Incident Clearance    object\n",
       "dtype: object"
      ]
     },
     "execution_count": 8,
     "metadata": {},
     "output_type": "execute_result"
    }
   ],
   "source": [
    "ts_df.dtypes"
   ]
  }
 ],
 "metadata": {
  "kernelspec": {
   "display_name": "Python 3.9.12 64-bit",
   "language": "python",
   "name": "python3"
  },
  "language_info": {
   "codemirror_mode": {
    "name": "ipython",
    "version": 3
   },
   "file_extension": ".py",
   "mimetype": "text/x-python",
   "name": "python",
   "nbconvert_exporter": "python",
   "pygments_lexer": "ipython3",
   "version": "3.9.12"
  },
  "orig_nbformat": 4,
  "vscode": {
   "interpreter": {
    "hash": "b0fa6594d8f4cbf19f97940f81e996739fb7646882a419484c72d19e05852a7e"
   }
  }
 },
 "nbformat": 4,
 "nbformat_minor": 2
}
