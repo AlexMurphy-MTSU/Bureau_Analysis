{
 "cells": [
  {
   "cell_type": "code",
   "execution_count": null,
   "metadata": {},
   "outputs": [],
   "source": [
    "import pandas as pd\n",
    "import numpy as np"
   ]
  },
  {
   "cell_type": "code",
   "execution_count": null,
   "metadata": {},
   "outputs": [],
   "source": [
    "\"\"\"\n",
    "NOTE: combining 'ORI' and 'Incident Number' is not enough for a unique identifier per event. \n",
    "Waiting to hear clarification form Ben, but could create a key using date also. That should\n",
    "be enough to join matching entries from one table to another correctly. \n",
    "\"\"\""
   ]
  },
  {
   "cell_type": "code",
   "execution_count": null,
   "metadata": {},
   "outputs": [],
   "source": [
    "# Deliverables 1 & 2 Need to join:\n",
    "# Data/2020 Domestic Violence - Administrative Data.csv\n",
    "# Data/2020 Domestic Violence - Other Data.csv\n",
    "# Data/2020 Q2 Domestic Violence - Location Type.csv\n",
    "admin_df = pd.read_csv('../Data/2020 Domestic Violence - Administrative Data.csv', encoding='ISO-8859-1',skiprows=7)\n",
    "other_df = pd.read_csv('../Data/2020 Domestic Violence - Other Data.csv', encoding='ISO-8859-1',skiprows=7)\n",
    "location_df = pd.read_csv('../Data/2020 Q1 Domestic Violence - Location Type.csv', encoding='ISO-8859-1',skiprows=6)\n"
   ]
  },
  {
   "cell_type": "code",
   "execution_count": null,
   "metadata": {},
   "outputs": [],
   "source": [
    "print('Lengths: Admin | Other | Locations\\n',len(admin_df), len(other_df), len(location_df))\n",
    "print('W/o true duplicates\\n', len(admin_df.drop_duplicates()), len(other_df.drop_duplicates()), len(location_df.drop_duplicates()))"
   ]
  },
  {
   "cell_type": "code",
   "execution_count": null,
   "metadata": {},
   "outputs": [],
   "source": [
    "# Verifying that not all duplicate Incident Number cases are complete duplicates \n",
    "print('Admin Dropped complete duplicates: ',len(admin_df.drop_duplicates()),'\\nAdmin Dropped duplicate incident numbers: ', len(admin_df.drop_duplicates('Incident Number')))"
   ]
  },
  {
   "cell_type": "code",
   "execution_count": null,
   "metadata": {},
   "outputs": [],
   "source": [
    "admin_df['Id_Key'] = admin_df['ORI'].values + ' - ' + admin_df['Incident Number'].values\n",
    "print('Admin Dropped Duplicates: ', len(admin_df.drop_duplicates()), '\\nAdmin Dropped Id_Key dups: ', len(admin_df.drop_duplicates('Id_Key')))"
   ]
  },
  {
   "cell_type": "code",
   "execution_count": null,
   "metadata": {},
   "outputs": [],
   "source": [
    "# Trying to figure out what is happenning in the duplicate Id_Key that aren't picked up as true duplicates\n",
    "# In doing so are we dropping acutal repeated entries or seperate events? \n",
    "dd_ind = set(admin_df.drop_duplicates().index)\n",
    "key_ind = set(admin_df.drop_duplicates('Id_Key').index)\n",
    "print(len(dd_ind), len(key_ind))\n",
    "dif_ind = dd_ind.difference(key_ind)"
   ]
  },
  {
   "cell_type": "code",
   "execution_count": null,
   "metadata": {},
   "outputs": [],
   "source": [
    "admin_df.iloc[1023], admin_df.iloc[1024]"
   ]
  },
  {
   "cell_type": "code",
   "execution_count": null,
   "metadata": {},
   "outputs": [],
   "source": [
    "for i in range(len(admin_df.drop_duplicates())):\n",
    "    X = admin_df.iloc[i]\n",
    "    ori, incnum = X.ORI, X['Incident Number']\n",
    "    Y = other_df.loc[other_df.ORI == ori]\n",
    "    Z = Y[Y['Incident Number'] == incnum]\n",
    "    break"
   ]
  },
  {
   "cell_type": "code",
   "execution_count": null,
   "metadata": {},
   "outputs": [],
   "source": [
    "Z"
   ]
  },
  {
   "cell_type": "code",
   "execution_count": null,
   "metadata": {},
   "outputs": [],
   "source": [
    "test = other_df.loc[other_df.ORI == 'TN0540100']\n",
    "test = test[test['Incident Number'] == '2.02E+11']\n",
    "test"
   ]
  }
 ],
 "metadata": {
  "kernelspec": {
   "display_name": "Python 3.9.12 64-bit",
   "language": "python",
   "name": "python3"
  },
  "language_info": {
   "codemirror_mode": {
    "name": "ipython",
    "version": 3
   },
   "file_extension": ".py",
   "mimetype": "text/x-python",
   "name": "python",
   "nbconvert_exporter": "python",
   "pygments_lexer": "ipython3",
   "version": "3.9.12"
  },
  "orig_nbformat": 4,
  "vscode": {
   "interpreter": {
    "hash": "b0fa6594d8f4cbf19f97940f81e996739fb7646882a419484c72d19e05852a7e"
   }
  }
 },
 "nbformat": 4,
 "nbformat_minor": 2
}
