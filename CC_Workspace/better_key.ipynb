{
 "cells": [
  {
   "cell_type": "code",
   "execution_count": 1,
   "metadata": {},
   "outputs": [],
   "source": [
    "import pandas as pd\n",
    "import numpy as np\n",
    "from datetime import datetime\n",
    "import os"
   ]
  },
  {
   "cell_type": "code",
   "execution_count": 16,
   "metadata": {},
   "outputs": [],
   "source": [
    "# potential keys that match up to property loss\n",
    "Off_to_PL_codes = {\n",
    "    '200':'Burned', #'Arson',\n",
    "    '220':'Stolen', #'Burglary',\n",
    "    '250':'Counterfeited/Forged', #'Counterfeiting/Forgery',\n",
    "    '290':'Destroyed/Damaged/Vandalized', # 'Destruction/Damage/Vandalism',\n",
    "    # 23-series likely\n",
    "    '23A':'Stolen',\n",
    "    '23B':'Stolen',\n",
    "    '23C':'Stolen',\n",
    "    '23D':'Stolen',\n",
    "    '23E':'Stolen',\n",
    "    '23F':'Stolen',\n",
    "    '23G':'Stolen',\n",
    "    '23H':'Stolen',\n",
    "    '240':'Stolen', #'Motor Vehicle Theft'\n",
    "}\n",
    "\n",
    "# Checking compiled PL file for unique PL codes, yield only 4: \n",
    "# 'Stolen', 'Destroyed/Damaged/Vandalized', 'Counterfeited/Forged', 'Burned'"
   ]
  },
  {
   "cell_type": "code",
   "execution_count": 10,
   "metadata": {},
   "outputs": [],
   "source": [
    "pl_df = pd.read_csv('../Data/Crime & COVID (2018-2020)/Compiled/2018-2020_Compiled_Property_Data.csv', encoding='ISO-8859-1')\n",
    "pl_df.drop('Unnamed: 0', axis=1, inplace=True)\n",
    "pl_df['ID_Key'] = pl_df['ORI'] + '<>' + pl_df['Incident Number'] + '<>' + pl_df['Incident Date']"
   ]
  },
  {
   "cell_type": "code",
   "execution_count": 11,
   "metadata": {},
   "outputs": [
    {
     "data": {
      "text/plain": [
       "(1134550, 747690)"
      ]
     },
     "execution_count": 11,
     "metadata": {},
     "output_type": "execute_result"
    }
   ],
   "source": [
    "len(pl_df), len(pl_df.ID_Key.unique())"
   ]
  },
  {
   "cell_type": "code",
   "execution_count": 13,
   "metadata": {},
   "outputs": [
    {
     "data": {
      "text/plain": [
       "ID_Key                   TN0020100<>2208260022<>01/01/2018\n",
       "ORI                                              TN0020100\n",
       "Incident Number                                 2208260022\n",
       "Incident Date                                   01/01/2018\n",
       "Report Date Indicator                                  NaN\n",
       "Type of Property Loss                               Stolen\n",
       "Property Description                   Identity-Intangible\n",
       "Property Value                                         0.0\n",
       "Agency Name                  Shelbyville Police Department\n",
       "Name: 0, dtype: object"
      ]
     },
     "execution_count": 13,
     "metadata": {},
     "output_type": "execute_result"
    }
   ],
   "source": [
    "pl_df.iloc[0]"
   ]
  },
  {
   "cell_type": "code",
   "execution_count": 35,
   "metadata": {},
   "outputs": [
    {
     "data": {
      "text/html": [
       "<div>\n",
       "<style scoped>\n",
       "    .dataframe tbody tr th:only-of-type {\n",
       "        vertical-align: middle;\n",
       "    }\n",
       "\n",
       "    .dataframe tbody tr th {\n",
       "        vertical-align: top;\n",
       "    }\n",
       "\n",
       "    .dataframe thead th {\n",
       "        text-align: right;\n",
       "    }\n",
       "</style>\n",
       "<table border=\"1\" class=\"dataframe\">\n",
       "  <thead>\n",
       "    <tr style=\"text-align: right;\">\n",
       "      <th></th>\n",
       "      <th>ID_Key</th>\n",
       "      <th>ORI</th>\n",
       "      <th>Incident Number</th>\n",
       "      <th>Incident Date</th>\n",
       "      <th>Report Date Indicator</th>\n",
       "      <th>Offense Code</th>\n",
       "      <th>Offense Type</th>\n",
       "      <th>Attempted or Completed</th>\n",
       "      <th>Number of Offenses in Incident</th>\n",
       "      <th>Number of Victims in Incident</th>\n",
       "      <th>...</th>\n",
       "      <th>Number of Premises Entered</th>\n",
       "      <th>Method of Entry</th>\n",
       "      <th>Primary Location Type</th>\n",
       "      <th>Secondary Location Type</th>\n",
       "      <th>Identity Theft</th>\n",
       "      <th>Home Invasion</th>\n",
       "      <th>Drug Type</th>\n",
       "      <th>Drug Origin</th>\n",
       "      <th>Drug Related</th>\n",
       "      <th>Drug Precursor</th>\n",
       "    </tr>\n",
       "  </thead>\n",
       "  <tbody>\n",
       "    <tr>\n",
       "      <th>0</th>\n",
       "      <td>TN0020100&lt;&gt;2208260022&lt;&gt;1/1/2018</td>\n",
       "      <td>TN0020100</td>\n",
       "      <td>2208260022</td>\n",
       "      <td>01/01/2018</td>\n",
       "      <td>NaN</td>\n",
       "      <td>26C</td>\n",
       "      <td>Fraud - Impersonation</td>\n",
       "      <td>Completed</td>\n",
       "      <td>2</td>\n",
       "      <td>1</td>\n",
       "      <td>...</td>\n",
       "      <td>NaN</td>\n",
       "      <td>Missing</td>\n",
       "      <td>Residence/Home</td>\n",
       "      <td>NaN</td>\n",
       "      <td>Identity Theft</td>\n",
       "      <td>Missing</td>\n",
       "      <td>Missing</td>\n",
       "      <td>Missing</td>\n",
       "      <td>Not Drug Related</td>\n",
       "      <td>Missing</td>\n",
       "    </tr>\n",
       "    <tr>\n",
       "      <th>1</th>\n",
       "      <td>TN0330700&lt;&gt;18-00856&lt;&gt;1/1/2018</td>\n",
       "      <td>TN0330700</td>\n",
       "      <td>18-00856</td>\n",
       "      <td>01/01/2018</td>\n",
       "      <td>NaN</td>\n",
       "      <td>270</td>\n",
       "      <td>Embezzlement</td>\n",
       "      <td>Completed</td>\n",
       "      <td>1</td>\n",
       "      <td>1</td>\n",
       "      <td>...</td>\n",
       "      <td>NaN</td>\n",
       "      <td>Missing</td>\n",
       "      <td>Specialty store (TV, Fur, etc.)</td>\n",
       "      <td>NaN</td>\n",
       "      <td>No Identity Theft</td>\n",
       "      <td>Missing</td>\n",
       "      <td>Missing</td>\n",
       "      <td>Missing</td>\n",
       "      <td>Not Drug Related</td>\n",
       "      <td>Missing</td>\n",
       "    </tr>\n",
       "    <tr>\n",
       "      <th>2</th>\n",
       "      <td>TN0470000&lt;&gt;1801010036&lt;&gt;1/1/2018</td>\n",
       "      <td>TN0470000</td>\n",
       "      <td>1801010036</td>\n",
       "      <td>01/01/2018</td>\n",
       "      <td>NaN</td>\n",
       "      <td>35A</td>\n",
       "      <td>Drug/Narcotic Violations</td>\n",
       "      <td>Completed</td>\n",
       "      <td>1</td>\n",
       "      <td>1</td>\n",
       "      <td>...</td>\n",
       "      <td>NaN</td>\n",
       "      <td>Missing</td>\n",
       "      <td>Highway/Road/Alley</td>\n",
       "      <td>NaN</td>\n",
       "      <td>Missing</td>\n",
       "      <td>Missing</td>\n",
       "      <td>Cultivated Marijuana</td>\n",
       "      <td>Outdoor Marijuana Growth</td>\n",
       "      <td>Drug Related</td>\n",
       "      <td>Missing</td>\n",
       "    </tr>\n",
       "    <tr>\n",
       "      <th>3</th>\n",
       "      <td>TN0470000&lt;&gt;1801010038&lt;&gt;1/1/2018</td>\n",
       "      <td>TN0470000</td>\n",
       "      <td>1801010038</td>\n",
       "      <td>01/01/2018</td>\n",
       "      <td>NaN</td>\n",
       "      <td>220</td>\n",
       "      <td>Burglary</td>\n",
       "      <td>Completed</td>\n",
       "      <td>1</td>\n",
       "      <td>1</td>\n",
       "      <td>...</td>\n",
       "      <td>NaN</td>\n",
       "      <td>Forced Entry</td>\n",
       "      <td>Residence/Home</td>\n",
       "      <td>NaN</td>\n",
       "      <td>No Identity Theft</td>\n",
       "      <td>Missing</td>\n",
       "      <td>Missing</td>\n",
       "      <td>Missing</td>\n",
       "      <td>Not Drug Related</td>\n",
       "      <td>Missing</td>\n",
       "    </tr>\n",
       "    <tr>\n",
       "      <th>4</th>\n",
       "      <td>TN0470000&lt;&gt;1801010039&lt;&gt;1/1/2018</td>\n",
       "      <td>TN0470000</td>\n",
       "      <td>1801010039</td>\n",
       "      <td>01/01/2018</td>\n",
       "      <td>NaN</td>\n",
       "      <td>13A</td>\n",
       "      <td>Aggravated Assault</td>\n",
       "      <td>Completed</td>\n",
       "      <td>1</td>\n",
       "      <td>1</td>\n",
       "      <td>...</td>\n",
       "      <td>NaN</td>\n",
       "      <td>Missing</td>\n",
       "      <td>Residence/Home</td>\n",
       "      <td>NaN</td>\n",
       "      <td>Missing</td>\n",
       "      <td>Missing</td>\n",
       "      <td>Missing</td>\n",
       "      <td>Missing</td>\n",
       "      <td>Not Drug Related</td>\n",
       "      <td>Missing</td>\n",
       "    </tr>\n",
       "  </tbody>\n",
       "</table>\n",
       "<p>5 rows × 30 columns</p>\n",
       "</div>"
      ],
      "text/plain": [
       "                            ID_Key        ORI Incident Number Incident Date  \\\n",
       "0  TN0020100<>2208260022<>1/1/2018  TN0020100      2208260022    01/01/2018   \n",
       "1    TN0330700<>18-00856<>1/1/2018  TN0330700        18-00856    01/01/2018   \n",
       "2  TN0470000<>1801010036<>1/1/2018  TN0470000      1801010036    01/01/2018   \n",
       "3  TN0470000<>1801010038<>1/1/2018  TN0470000      1801010038    01/01/2018   \n",
       "4  TN0470000<>1801010039<>1/1/2018  TN0470000      1801010039    01/01/2018   \n",
       "\n",
       "  Report Date Indicator Offense Code              Offense Type  \\\n",
       "0                   NaN          26C     Fraud - Impersonation   \n",
       "1                   NaN          270              Embezzlement   \n",
       "2                   NaN          35A  Drug/Narcotic Violations   \n",
       "3                   NaN          220                  Burglary   \n",
       "4                   NaN          13A        Aggravated Assault   \n",
       "\n",
       "  Attempted or Completed  Number of Offenses in Incident  \\\n",
       "0              Completed                               2   \n",
       "1              Completed                               1   \n",
       "2              Completed                               1   \n",
       "3              Completed                               1   \n",
       "4              Completed                               1   \n",
       "\n",
       "   Number of Victims in Incident  ...  Number of Premises Entered  \\\n",
       "0                              1  ...                         NaN   \n",
       "1                              1  ...                         NaN   \n",
       "2                              1  ...                         NaN   \n",
       "3                              1  ...                         NaN   \n",
       "4                              1  ...                         NaN   \n",
       "\n",
       "   Method of Entry            Primary Location Type  Secondary Location Type  \\\n",
       "0          Missing                   Residence/Home                      NaN   \n",
       "1          Missing  Specialty store (TV, Fur, etc.)                      NaN   \n",
       "2          Missing               Highway/Road/Alley                      NaN   \n",
       "3     Forced Entry                   Residence/Home                      NaN   \n",
       "4          Missing                   Residence/Home                      NaN   \n",
       "\n",
       "      Identity Theft Home Invasion             Drug Type  \\\n",
       "0     Identity Theft       Missing               Missing   \n",
       "1  No Identity Theft       Missing               Missing   \n",
       "2            Missing       Missing  Cultivated Marijuana   \n",
       "3  No Identity Theft       Missing               Missing   \n",
       "4            Missing       Missing               Missing   \n",
       "\n",
       "                Drug Origin      Drug Related Drug Precursor  \n",
       "0                   Missing  Not Drug Related        Missing  \n",
       "1                   Missing  Not Drug Related        Missing  \n",
       "2  Outdoor Marijuana Growth      Drug Related        Missing  \n",
       "3                   Missing  Not Drug Related        Missing  \n",
       "4                   Missing  Not Drug Related        Missing  \n",
       "\n",
       "[5 rows x 30 columns]"
      ]
     },
     "execution_count": 35,
     "metadata": {},
     "output_type": "execute_result"
    }
   ],
   "source": [
    "df = pd.read_csv('../Data/Crime & COVID (2018-2020)/Compiled/2018-2020_Compiled_Offense_Data.csv', encoding='ISO-8859-1')\n",
    "df.drop('Unnamed: 0', axis=1, inplace=True)\n",
    "df.head()"
   ]
  },
  {
   "cell_type": "code",
   "execution_count": null,
   "metadata": {},
   "outputs": [],
   "source": []
  },
  {
   "cell_type": "code",
   "execution_count": null,
   "metadata": {},
   "outputs": [],
   "source": [
    "for i in range(len(pl_df)):\n",
    "    X = pl_df.iloc[i]\n",
    "    id = X.ID_Key\n",
    "    Y = df.loc[df.ID_Key == id]"
   ]
  },
  {
   "cell_type": "code",
   "execution_count": 6,
   "metadata": {},
   "outputs": [
    {
     "data": {
      "text/plain": [
       "['23H', '23C', '23F', '23G', '23D', '23E', '23A', '23B']"
      ]
     },
     "execution_count": 6,
     "metadata": {},
     "output_type": "execute_result"
    }
   ],
   "source": [
    "codes = list(df['Offense Code'].unique())\n",
    "code_23 = [x for x in codes if '23' in x]\n",
    "code_23"
   ]
  },
  {
   "cell_type": "code",
   "execution_count": 12,
   "metadata": {},
   "outputs": [
    {
     "data": {
      "text/plain": [
       "0    7:00pm-7:59pm\n",
       "1    7:00pm-7:59pm\n",
       "Name: Hour of Day, dtype: object"
      ]
     },
     "execution_count": 12,
     "metadata": {},
     "output_type": "execute_result"
    }
   ],
   "source": [
    "test_key = 'TN0110000<>180106-0154<>1/6/18'\n",
    "X = df.loc[df.ID_Key == test_key]\n",
    "X['Hour of Day']"
   ]
  },
  {
   "cell_type": "code",
   "execution_count": null,
   "metadata": {},
   "outputs": [],
   "source": [
    "\"\"\" \n",
    "Takeaway:\n",
    "-The ID_Key feature, as is, opperates as an advanced filter to lock in ORI, incident number, \n",
    "    and incident date\n",
    "There is some utility to this, but it does not discriminate unique events as previously desired\n",
    "Including something like Address, or primary location type, would likely achieve this, however, \n",
    "Property Loss file does not have the address feauture, so it would not be able to read such a key.\n",
    "\n",
    "UNLESS, we knew an offense type/code that would gauruntee a crime also be added to the property loss\n",
    "file. In that case we could identify those crimes that do actually appear on both. We could match from property\n",
    "loss to offense file and create a unique code based on if the crime type/code matched a property loss\n",
    "equivalent. \n",
    "\"\"\""
   ]
  }
 ],
 "metadata": {
  "kernelspec": {
   "display_name": "Python 3.9.12 64-bit",
   "language": "python",
   "name": "python3"
  },
  "language_info": {
   "codemirror_mode": {
    "name": "ipython",
    "version": 3
   },
   "file_extension": ".py",
   "mimetype": "text/x-python",
   "name": "python",
   "nbconvert_exporter": "python",
   "pygments_lexer": "ipython3",
   "version": "3.9.12"
  },
  "orig_nbformat": 4,
  "vscode": {
   "interpreter": {
    "hash": "b0fa6594d8f4cbf19f97940f81e996739fb7646882a419484c72d19e05852a7e"
   }
  }
 },
 "nbformat": 4,
 "nbformat_minor": 2
}
