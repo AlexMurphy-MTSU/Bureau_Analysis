{
 "cells": [
  {
   "cell_type": "code",
   "execution_count": 1,
   "metadata": {},
   "outputs": [],
   "source": [
    "import pandas as pd\n",
    "import numpy as np\n",
    "from datetime import datetime\n",
    "import os"
   ]
  },
  {
   "cell_type": "code",
   "execution_count": 2,
   "metadata": {},
   "outputs": [
    {
     "data": {
      "text/plain": [
       "1522184"
      ]
     },
     "execution_count": 2,
     "metadata": {},
     "output_type": "execute_result"
    }
   ],
   "source": [
    "df = pd.read_csv('../Data/Crime & COVID (2018-2020)/Compiled/2018-2020_Compiled_Offense_Data.csv', encoding='ISO-8859-1')\n",
    "df.drop('Unnamed: 0', axis=1,inplace=True)\n",
    "len(df)"
   ]
  },
  {
   "cell_type": "code",
   "execution_count": 6,
   "metadata": {},
   "outputs": [
    {
     "data": {
      "text/html": [
       "<div>\n",
       "<style scoped>\n",
       "    .dataframe tbody tr th:only-of-type {\n",
       "        vertical-align: middle;\n",
       "    }\n",
       "\n",
       "    .dataframe tbody tr th {\n",
       "        vertical-align: top;\n",
       "    }\n",
       "\n",
       "    .dataframe thead th {\n",
       "        text-align: right;\n",
       "    }\n",
       "</style>\n",
       "<table border=\"1\" class=\"dataframe\">\n",
       "  <thead>\n",
       "    <tr style=\"text-align: right;\">\n",
       "      <th></th>\n",
       "      <th>ID_Key</th>\n",
       "      <th>ORI</th>\n",
       "      <th>Incident Number</th>\n",
       "      <th>Incident Date</th>\n",
       "      <th>Report Date Indicator</th>\n",
       "      <th>Offense Code</th>\n",
       "      <th>Offense Type</th>\n",
       "      <th>Attempted or Completed</th>\n",
       "      <th>Number of Offenses in Incident</th>\n",
       "      <th>Number of Victims in Incident</th>\n",
       "      <th>...</th>\n",
       "      <th>Number of Premises Entered</th>\n",
       "      <th>Method of Entry</th>\n",
       "      <th>Primary Location Type</th>\n",
       "      <th>Secondary Location Type</th>\n",
       "      <th>Identity Theft</th>\n",
       "      <th>Home Invasion</th>\n",
       "      <th>Drug Type</th>\n",
       "      <th>Drug Origin</th>\n",
       "      <th>Drug Related</th>\n",
       "      <th>Drug Precursor</th>\n",
       "    </tr>\n",
       "  </thead>\n",
       "  <tbody>\n",
       "    <tr>\n",
       "      <th>1522179</th>\n",
       "      <td>TN0730400&lt;&gt;RW210101002&lt;&gt;12/31/20</td>\n",
       "      <td>TN0730400</td>\n",
       "      <td>RW210101002</td>\n",
       "      <td>12/31/2020</td>\n",
       "      <td>NaN</td>\n",
       "      <td>23C</td>\n",
       "      <td>Theft - Shoplifting</td>\n",
       "      <td>Completed</td>\n",
       "      <td>2</td>\n",
       "      <td>1</td>\n",
       "      <td>...</td>\n",
       "      <td>NaN</td>\n",
       "      <td>Missing</td>\n",
       "      <td>Department/Discount Store</td>\n",
       "      <td>NaN</td>\n",
       "      <td>Missing</td>\n",
       "      <td>Missing</td>\n",
       "      <td>Missing</td>\n",
       "      <td>Missing</td>\n",
       "      <td>Not Drug Related</td>\n",
       "      <td>Missing</td>\n",
       "    </tr>\n",
       "    <tr>\n",
       "      <th>1522180</th>\n",
       "      <td>TN0160000&lt;&gt;2020066751&lt;&gt;12/31/20</td>\n",
       "      <td>TN0160000</td>\n",
       "      <td>2020066751</td>\n",
       "      <td>12/31/2020</td>\n",
       "      <td>NaN</td>\n",
       "      <td>13C</td>\n",
       "      <td>Intimidation</td>\n",
       "      <td>Completed</td>\n",
       "      <td>1</td>\n",
       "      <td>1</td>\n",
       "      <td>...</td>\n",
       "      <td>NaN</td>\n",
       "      <td>Missing</td>\n",
       "      <td>Other/Unknown</td>\n",
       "      <td>NaN</td>\n",
       "      <td>Missing</td>\n",
       "      <td>Missing</td>\n",
       "      <td>Missing</td>\n",
       "      <td>Missing</td>\n",
       "      <td>Not Drug Related</td>\n",
       "      <td>Missing</td>\n",
       "    </tr>\n",
       "    <tr>\n",
       "      <th>1522181</th>\n",
       "      <td>TN0190100&lt;&gt;20200796996&lt;&gt;12/31/20</td>\n",
       "      <td>TN0190100</td>\n",
       "      <td>20200796996</td>\n",
       "      <td>12/31/2020</td>\n",
       "      <td>NaN</td>\n",
       "      <td>23C</td>\n",
       "      <td>Theft - Shoplifting</td>\n",
       "      <td>Completed</td>\n",
       "      <td>2</td>\n",
       "      <td>2</td>\n",
       "      <td>...</td>\n",
       "      <td>NaN</td>\n",
       "      <td>Missing</td>\n",
       "      <td>Department/Discount Store</td>\n",
       "      <td>NaN</td>\n",
       "      <td>Missing</td>\n",
       "      <td>Missing</td>\n",
       "      <td>Missing</td>\n",
       "      <td>Missing</td>\n",
       "      <td>Not Drug Related</td>\n",
       "      <td>Missing</td>\n",
       "    </tr>\n",
       "    <tr>\n",
       "      <th>1522182</th>\n",
       "      <td>TN0320100&lt;&gt;20201200705&lt;&gt;12/31/20</td>\n",
       "      <td>TN0320100</td>\n",
       "      <td>20201200705</td>\n",
       "      <td>12/31/2020</td>\n",
       "      <td>NaN</td>\n",
       "      <td>290</td>\n",
       "      <td>Destruction/Damage/Vandalism</td>\n",
       "      <td>Completed</td>\n",
       "      <td>1</td>\n",
       "      <td>2</td>\n",
       "      <td>...</td>\n",
       "      <td>NaN</td>\n",
       "      <td>Missing</td>\n",
       "      <td>Residence/Home</td>\n",
       "      <td>NaN</td>\n",
       "      <td>Missing</td>\n",
       "      <td>Missing</td>\n",
       "      <td>Missing</td>\n",
       "      <td>Missing</td>\n",
       "      <td>Not Drug Related</td>\n",
       "      <td>Missing</td>\n",
       "    </tr>\n",
       "    <tr>\n",
       "      <th>1522183</th>\n",
       "      <td>TN0330800&lt;&gt;20-005629&lt;&gt;12/31/20</td>\n",
       "      <td>TN0330800</td>\n",
       "      <td>20-005629</td>\n",
       "      <td>12/31/2020</td>\n",
       "      <td>NaN</td>\n",
       "      <td>290</td>\n",
       "      <td>Destruction/Damage/Vandalism</td>\n",
       "      <td>Completed</td>\n",
       "      <td>1</td>\n",
       "      <td>1</td>\n",
       "      <td>...</td>\n",
       "      <td>NaN</td>\n",
       "      <td>Missing</td>\n",
       "      <td>Residence/Home</td>\n",
       "      <td>NaN</td>\n",
       "      <td>Missing</td>\n",
       "      <td>Missing</td>\n",
       "      <td>Missing</td>\n",
       "      <td>Missing</td>\n",
       "      <td>Not Drug Related</td>\n",
       "      <td>Missing</td>\n",
       "    </tr>\n",
       "  </tbody>\n",
       "</table>\n",
       "<p>5 rows × 30 columns</p>\n",
       "</div>"
      ],
      "text/plain": [
       "                                   ID_Key        ORI Incident Number  \\\n",
       "1522179  TN0730400<>RW210101002<>12/31/20  TN0730400     RW210101002   \n",
       "1522180   TN0160000<>2020066751<>12/31/20  TN0160000      2020066751   \n",
       "1522181  TN0190100<>20200796996<>12/31/20  TN0190100     20200796996   \n",
       "1522182  TN0320100<>20201200705<>12/31/20  TN0320100     20201200705   \n",
       "1522183    TN0330800<>20-005629<>12/31/20  TN0330800       20-005629   \n",
       "\n",
       "        Incident Date Report Date Indicator Offense Code  \\\n",
       "1522179    12/31/2020                   NaN          23C   \n",
       "1522180    12/31/2020                   NaN          13C   \n",
       "1522181    12/31/2020                   NaN          23C   \n",
       "1522182    12/31/2020                   NaN          290   \n",
       "1522183    12/31/2020                   NaN          290   \n",
       "\n",
       "                         Offense Type Attempted or Completed  \\\n",
       "1522179           Theft - Shoplifting              Completed   \n",
       "1522180                  Intimidation              Completed   \n",
       "1522181           Theft - Shoplifting              Completed   \n",
       "1522182  Destruction/Damage/Vandalism              Completed   \n",
       "1522183  Destruction/Damage/Vandalism              Completed   \n",
       "\n",
       "         Number of Offenses in Incident  Number of Victims in Incident  ...  \\\n",
       "1522179                               2                              1  ...   \n",
       "1522180                               1                              1  ...   \n",
       "1522181                               2                              2  ...   \n",
       "1522182                               1                              2  ...   \n",
       "1522183                               1                              1  ...   \n",
       "\n",
       "         Number of Premises Entered  Method of Entry  \\\n",
       "1522179                         NaN          Missing   \n",
       "1522180                         NaN          Missing   \n",
       "1522181                         NaN          Missing   \n",
       "1522182                         NaN          Missing   \n",
       "1522183                         NaN          Missing   \n",
       "\n",
       "             Primary Location Type  Secondary Location Type Identity Theft  \\\n",
       "1522179  Department/Discount Store                      NaN        Missing   \n",
       "1522180              Other/Unknown                      NaN        Missing   \n",
       "1522181  Department/Discount Store                      NaN        Missing   \n",
       "1522182             Residence/Home                      NaN        Missing   \n",
       "1522183             Residence/Home                      NaN        Missing   \n",
       "\n",
       "        Home Invasion Drug Type Drug Origin      Drug Related Drug Precursor  \n",
       "1522179       Missing   Missing     Missing  Not Drug Related        Missing  \n",
       "1522180       Missing   Missing     Missing  Not Drug Related        Missing  \n",
       "1522181       Missing   Missing     Missing  Not Drug Related        Missing  \n",
       "1522182       Missing   Missing     Missing  Not Drug Related        Missing  \n",
       "1522183       Missing   Missing     Missing  Not Drug Related        Missing  \n",
       "\n",
       "[5 rows x 30 columns]"
      ]
     },
     "execution_count": 6,
     "metadata": {},
     "output_type": "execute_result"
    }
   ],
   "source": [
    "df.tail()"
   ]
  },
  {
   "cell_type": "code",
   "execution_count": 5,
   "metadata": {},
   "outputs": [
    {
     "name": "stdout",
     "output_type": "stream",
     "text": [
      "Code: 90A Not Found\n"
     ]
    }
   ],
   "source": [
    "# Specified by email from Ben, Nov 28\n",
    "\n",
    "student_codes_list = [\n",
    "    '510', # Bribery\n",
    "    '250', # Counterfeiting/Forgery\n",
    "    '270', # Embezzlement\n",
    "    '210', # Extortion/Blackmail\n",
    "    # Fraud Offences\n",
    "    '26A', # False Pretenses/Swindle/Con\n",
    "    '26B', # Credit Card/ATM\n",
    "    '26C', # Impersonation\n",
    "    '26D', # Welfare Fraud\n",
    "    '26E', # Wire Fraud\n",
    "    '26F', # Identity Theft\n",
    "    '26G', # Computer Hacking/Invasion\n",
    "    # Gambling Offenses\n",
    "    '39A', # Betting/Wagering\n",
    "    '39B', # Operating/Promoting/Assisting\n",
    "    '39C', # Gambling Equipment Violation\n",
    "    '39D', # Sports Tampering\n",
    "    '90A', # Bad Checks\n",
    "]   \n",
    "\n",
    "# verify that each code does show up\n",
    "for code in student_codes_list:\n",
    "    X = df.loc[df['Offense Code'] == code]\n",
    "    if len(X) == 0:\n",
    "        print(f'Code: {code} Not Found')"
   ]
  },
  {
   "cell_type": "code",
   "execution_count": 7,
   "metadata": {},
   "outputs": [
    {
     "data": {
      "text/plain": [
       "39"
      ]
     },
     "execution_count": 7,
     "metadata": {},
     "output_type": "execute_result"
    }
   ],
   "source": [
    "codes_to_drop = []\n",
    "\n",
    "for code in df['Offense Code'].unique():\n",
    "    if code not in student_codes_list:\n",
    "        codes_to_drop.append(code)\n",
    "\n",
    "len(codes_to_drop)"
   ]
  },
  {
   "cell_type": "code",
   "execution_count": 11,
   "metadata": {},
   "outputs": [
    {
     "name": "stdout",
     "output_type": "stream",
     "text": [
      "1355591\n",
      "801750\n",
      "390323\n",
      "175789\n",
      "141900\n",
      "130202\n",
      "120035\n",
      "117814\n",
      "117626\n"
     ]
    }
   ],
   "source": [
    "student_df = df\n",
    "for code in codes_to_drop:\n",
    "    student_df = student_df[student_df['Offense Code'] != code]\n",
    "    if codes_to_drop.index(code) % 5 == 0:\n",
    "        print(len(student_df))\n",
    "print(len(student_df))"
   ]
  },
  {
   "cell_type": "code",
   "execution_count": 12,
   "metadata": {},
   "outputs": [],
   "source": [
    "student_df.to_csv('../Data/Crime & COVID (2018-2020)/Compiled/for_students.csv')"
   ]
  }
 ],
 "metadata": {
  "kernelspec": {
   "display_name": "Python 3.9.12 64-bit",
   "language": "python",
   "name": "python3"
  },
  "language_info": {
   "codemirror_mode": {
    "name": "ipython",
    "version": 3
   },
   "file_extension": ".py",
   "mimetype": "text/x-python",
   "name": "python",
   "nbconvert_exporter": "python",
   "pygments_lexer": "ipython3",
   "version": "3.9.12"
  },
  "orig_nbformat": 4,
  "vscode": {
   "interpreter": {
    "hash": "b0fa6594d8f4cbf19f97940f81e996739fb7646882a419484c72d19e05852a7e"
   }
  }
 },
 "nbformat": 4,
 "nbformat_minor": 2
}
